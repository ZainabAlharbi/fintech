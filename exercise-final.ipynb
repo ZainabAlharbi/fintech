{
  "nbformat": 4,
  "nbformat_minor": 0,
  "metadata": {
    "colab": {
      "name": "Untitled20.ipynb",
      "provenance": [],
      "authorship_tag": "ABX9TyPmYM+8Ym+NIL3gJ177nPev"
    },
    "kernelspec": {
      "display_name": "Python 3",
      "name": "python3"
    },
    "language_info": {
      "name": "python"
    }
  },
  "cells": [
    {
      "cell_type": "code",
      "metadata": {
        "id": "0OKL7Jw5T2FG"
      },
      "source": [
        "import numpy as np\n",
        "import pandas as pd\n",
        "import statsmodels.api as sm\n",
        "from datetime import datetime\n",
        "import pandas_datareader as pdr\n",
        "import pandas.util.testing as tm\n",
        "from matplotlib import pyplot as plt"
      ],
      "execution_count": 11,
      "outputs": []
    },
    {
      "cell_type": "code",
      "metadata": {
        "id": "pOxliPaRcmoM"
      },
      "source": [
        "SA_oil = pd.read_csv(\"2222.csv\", usecols=['Date', 'Adj Close'],\n",
        "                                   parse_dates=[\"Date\"],\n",
        "                                   index_col=[\"Date\"])\n",
        "#SA_oil = SA_oil.rename()\n",
        "#SA_oil.head()"
      ],
      "execution_count": 2,
      "outputs": []
    },
    {
      "cell_type": "code",
      "metadata": {
        "colab": {
          "base_uri": "https://localhost:8080/",
          "height": 235
        },
        "id": "SDXLEHX_Rxl4",
        "outputId": "10eb9497-1b18-45e6-9e7b-a8fd76182a56"
      },
      "source": [
        "# retuen = (current - pervious) / pervious\n",
        "returns_SA_oil = SA_oil.pct_change()\n",
        "returns_SA_oil.head()\n",
        "#returns_SA_oil.shape"
      ],
      "execution_count": 3,
      "outputs": [
        {
          "output_type": "execute_result",
          "data": {
            "text/html": [
              "<div>\n",
              "<style scoped>\n",
              "    .dataframe tbody tr th:only-of-type {\n",
              "        vertical-align: middle;\n",
              "    }\n",
              "\n",
              "    .dataframe tbody tr th {\n",
              "        vertical-align: top;\n",
              "    }\n",
              "\n",
              "    .dataframe thead th {\n",
              "        text-align: right;\n",
              "    }\n",
              "</style>\n",
              "<table border=\"1\" class=\"dataframe\">\n",
              "  <thead>\n",
              "    <tr style=\"text-align: right;\">\n",
              "      <th></th>\n",
              "      <th>Adj Close</th>\n",
              "    </tr>\n",
              "    <tr>\n",
              "      <th>Date</th>\n",
              "      <th></th>\n",
              "    </tr>\n",
              "  </thead>\n",
              "  <tbody>\n",
              "    <tr>\n",
              "      <th>2020-01-01</th>\n",
              "      <td>NaN</td>\n",
              "    </tr>\n",
              "    <tr>\n",
              "      <th>2020-02-01</th>\n",
              "      <td>-0.023426</td>\n",
              "    </tr>\n",
              "    <tr>\n",
              "      <th>2020-03-01</th>\n",
              "      <td>-0.095952</td>\n",
              "    </tr>\n",
              "    <tr>\n",
              "      <th>2020-04-01</th>\n",
              "      <td>0.052429</td>\n",
              "    </tr>\n",
              "    <tr>\n",
              "      <th>2020-05-01</th>\n",
              "      <td>0.042654</td>\n",
              "    </tr>\n",
              "  </tbody>\n",
              "</table>\n",
              "</div>"
            ],
            "text/plain": [
              "            Adj Close\n",
              "Date                 \n",
              "2020-01-01        NaN\n",
              "2020-02-01  -0.023426\n",
              "2020-03-01  -0.095952\n",
              "2020-04-01   0.052429\n",
              "2020-05-01   0.042654"
            ]
          },
          "metadata": {},
          "execution_count": 3
        }
      ]
    },
    {
      "cell_type": "code",
      "metadata": {
        "colab": {
          "base_uri": "https://localhost:8080/",
          "height": 235
        },
        "id": "62diC7rYetFy",
        "outputId": "828847ef-d8ae-43c2-cb86-58486c6d9fdd"
      },
      "source": [
        "Rajhi = pd.read_csv(\"1120.csv\", usecols=['Date', 'Adj Close'],\n",
        "                                   parse_dates=[\"Date\"],\n",
        "                                   index_col=[\"Date\"])\n",
        "\n",
        "#df.head()\n",
        "returns_Rajhi = Rajhi.pct_change()\n",
        "returns_Rajhi.head()"
      ],
      "execution_count": 4,
      "outputs": [
        {
          "output_type": "execute_result",
          "data": {
            "text/html": [
              "<div>\n",
              "<style scoped>\n",
              "    .dataframe tbody tr th:only-of-type {\n",
              "        vertical-align: middle;\n",
              "    }\n",
              "\n",
              "    .dataframe tbody tr th {\n",
              "        vertical-align: top;\n",
              "    }\n",
              "\n",
              "    .dataframe thead th {\n",
              "        text-align: right;\n",
              "    }\n",
              "</style>\n",
              "<table border=\"1\" class=\"dataframe\">\n",
              "  <thead>\n",
              "    <tr style=\"text-align: right;\">\n",
              "      <th></th>\n",
              "      <th>Adj Close</th>\n",
              "    </tr>\n",
              "    <tr>\n",
              "      <th>Date</th>\n",
              "      <th></th>\n",
              "    </tr>\n",
              "  </thead>\n",
              "  <tbody>\n",
              "    <tr>\n",
              "      <th>2020-01-01</th>\n",
              "      <td>NaN</td>\n",
              "    </tr>\n",
              "    <tr>\n",
              "      <th>2020-02-01</th>\n",
              "      <td>-0.054217</td>\n",
              "    </tr>\n",
              "    <tr>\n",
              "      <th>2020-03-01</th>\n",
              "      <td>-0.143312</td>\n",
              "    </tr>\n",
              "    <tr>\n",
              "      <th>2020-04-01</th>\n",
              "      <td>0.093006</td>\n",
              "    </tr>\n",
              "    <tr>\n",
              "      <th>2020-05-01</th>\n",
              "      <td>0.008741</td>\n",
              "    </tr>\n",
              "  </tbody>\n",
              "</table>\n",
              "</div>"
            ],
            "text/plain": [
              "            Adj Close\n",
              "Date                 \n",
              "2020-01-01        NaN\n",
              "2020-02-01  -0.054217\n",
              "2020-03-01  -0.143312\n",
              "2020-04-01   0.093006\n",
              "2020-05-01   0.008741"
            ]
          },
          "metadata": {},
          "execution_count": 4
        }
      ]
    },
    {
      "cell_type": "code",
      "metadata": {
        "colab": {
          "base_uri": "https://localhost:8080/",
          "height": 235
        },
        "id": "VdMnHtIZfBkR",
        "outputId": "331045c7-0e35-4f79-b347-078ff4dcbdfe"
      },
      "source": [
        "Sabic = pd.read_csv(\"2020.csv\", usecols=['Date', 'Adj Close'],\n",
        "                                   parse_dates=[\"Date\"],\n",
        "                                   index_col=[\"Date\"])\n",
        "#df.head()\n",
        "returns_Sabic = Sabic.pct_change()\n",
        "returns_Sabic.head()"
      ],
      "execution_count": 5,
      "outputs": [
        {
          "output_type": "execute_result",
          "data": {
            "text/html": [
              "<div>\n",
              "<style scoped>\n",
              "    .dataframe tbody tr th:only-of-type {\n",
              "        vertical-align: middle;\n",
              "    }\n",
              "\n",
              "    .dataframe tbody tr th {\n",
              "        vertical-align: top;\n",
              "    }\n",
              "\n",
              "    .dataframe thead th {\n",
              "        text-align: right;\n",
              "    }\n",
              "</style>\n",
              "<table border=\"1\" class=\"dataframe\">\n",
              "  <thead>\n",
              "    <tr style=\"text-align: right;\">\n",
              "      <th></th>\n",
              "      <th>Adj Close</th>\n",
              "    </tr>\n",
              "    <tr>\n",
              "      <th>Date</th>\n",
              "      <th></th>\n",
              "    </tr>\n",
              "  </thead>\n",
              "  <tbody>\n",
              "    <tr>\n",
              "      <th>2020-01-01</th>\n",
              "      <td>NaN</td>\n",
              "    </tr>\n",
              "    <tr>\n",
              "      <th>2020-02-01</th>\n",
              "      <td>-0.104000</td>\n",
              "    </tr>\n",
              "    <tr>\n",
              "      <th>2020-03-01</th>\n",
              "      <td>-0.077381</td>\n",
              "    </tr>\n",
              "    <tr>\n",
              "      <th>2020-04-01</th>\n",
              "      <td>0.170016</td>\n",
              "    </tr>\n",
              "    <tr>\n",
              "      <th>2020-05-01</th>\n",
              "      <td>0.076271</td>\n",
              "    </tr>\n",
              "  </tbody>\n",
              "</table>\n",
              "</div>"
            ],
            "text/plain": [
              "            Adj Close\n",
              "Date                 \n",
              "2020-01-01        NaN\n",
              "2020-02-01  -0.104000\n",
              "2020-03-01  -0.077381\n",
              "2020-04-01   0.170016\n",
              "2020-05-01   0.076271"
            ]
          },
          "metadata": {},
          "execution_count": 5
        }
      ]
    },
    {
      "cell_type": "code",
      "metadata": {
        "id": "2Wk78-6YfKWx"
      },
      "source": [
        "#SA_oil, Rajhi, Sabic,\n",
        "df = pd.merge(returns_SA_oil, returns_Rajhi, on='Date', how='inner')\n",
        "#df\n"
      ],
      "execution_count": 6,
      "outputs": []
    },
    {
      "cell_type": "code",
      "metadata": {
        "id": "1ZQsT1tHTLsJ",
        "colab": {
          "base_uri": "https://localhost:8080/",
          "height": 235
        },
        "outputId": "e1a227db-6e84-433f-b634-a8233abe8199"
      },
      "source": [
        "matrix_of_return_values = pd.merge(df, returns_Sabic, on='Date', how='inner')\n",
        "matrix_of_return_values = matrix_of_return_values.dropna()\n",
        "#matrix_of_return_value.index.duplicated().any()\n",
        "matrix_of_return_values.head()\n"
      ],
      "execution_count": 7,
      "outputs": [
        {
          "output_type": "execute_result",
          "data": {
            "text/html": [
              "<div>\n",
              "<style scoped>\n",
              "    .dataframe tbody tr th:only-of-type {\n",
              "        vertical-align: middle;\n",
              "    }\n",
              "\n",
              "    .dataframe tbody tr th {\n",
              "        vertical-align: top;\n",
              "    }\n",
              "\n",
              "    .dataframe thead th {\n",
              "        text-align: right;\n",
              "    }\n",
              "</style>\n",
              "<table border=\"1\" class=\"dataframe\">\n",
              "  <thead>\n",
              "    <tr style=\"text-align: right;\">\n",
              "      <th></th>\n",
              "      <th>Adj Close_x</th>\n",
              "      <th>Adj Close_y</th>\n",
              "      <th>Adj Close</th>\n",
              "    </tr>\n",
              "    <tr>\n",
              "      <th>Date</th>\n",
              "      <th></th>\n",
              "      <th></th>\n",
              "      <th></th>\n",
              "    </tr>\n",
              "  </thead>\n",
              "  <tbody>\n",
              "    <tr>\n",
              "      <th>2020-02-01</th>\n",
              "      <td>-0.023426</td>\n",
              "      <td>-0.054217</td>\n",
              "      <td>-0.104000</td>\n",
              "    </tr>\n",
              "    <tr>\n",
              "      <th>2020-03-01</th>\n",
              "      <td>-0.095952</td>\n",
              "      <td>-0.143312</td>\n",
              "      <td>-0.077381</td>\n",
              "    </tr>\n",
              "    <tr>\n",
              "      <th>2020-04-01</th>\n",
              "      <td>0.052429</td>\n",
              "      <td>0.093006</td>\n",
              "      <td>0.170016</td>\n",
              "    </tr>\n",
              "    <tr>\n",
              "      <th>2020-05-01</th>\n",
              "      <td>0.042654</td>\n",
              "      <td>0.008741</td>\n",
              "      <td>0.076271</td>\n",
              "    </tr>\n",
              "    <tr>\n",
              "      <th>2020-06-01</th>\n",
              "      <td>0.108000</td>\n",
              "      <td>-0.019064</td>\n",
              "      <td>-0.022310</td>\n",
              "    </tr>\n",
              "  </tbody>\n",
              "</table>\n",
              "</div>"
            ],
            "text/plain": [
              "            Adj Close_x  Adj Close_y  Adj Close\n",
              "Date                                           \n",
              "2020-02-01    -0.023426    -0.054217  -0.104000\n",
              "2020-03-01    -0.095952    -0.143312  -0.077381\n",
              "2020-04-01     0.052429     0.093006   0.170016\n",
              "2020-05-01     0.042654     0.008741   0.076271\n",
              "2020-06-01     0.108000    -0.019064  -0.022310"
            ]
          },
          "metadata": {},
          "execution_count": 7
        }
      ]
    },
    {
      "cell_type": "code",
      "metadata": {
        "id": "oBPQTQKi97IF"
      },
      "source": [
        "collection_of_random_asset_weights = []\n",
        "portfolio_means = []\n",
        "portfolio_standard_deviations = []\n",
        "portfolio_sharpe_ratios = []"
      ],
      "execution_count": 8,
      "outputs": []
    },
    {
      "cell_type": "code",
      "metadata": {
        "colab": {
          "base_uri": "https://localhost:8080/"
        },
        "id": "HLwo2LWP-Aib",
        "outputId": "b43758d7-cec7-4b10-a9ea-3e5aeae2e7b6"
      },
      "source": [
        "no_of_portfolios = 500\n",
        "no_of_asset_classes = matrix_of_return_values.shape[1]\n",
        "\n",
        "def get_random_asset_weights(no_of_asset_classes):\n",
        "    random_asset_weights = np.random.rand(no_of_asset_classes)\n",
        "    random_asset_weights /= sum(random_asset_weights)\n",
        "    random_asset_weights = np.asmatrix(random_asset_weights) \n",
        "    return random_asset_weights\n",
        "asset_weights = get_random_asset_weights(no_of_asset_classes)   \n",
        "asset_weights "
      ],
      "execution_count": 9,
      "outputs": [
        {
          "output_type": "execute_result",
          "data": {
            "text/plain": [
              "matrix([[0.43969344, 0.03686229, 0.52344427]])"
            ]
          },
          "metadata": {},
          "execution_count": 9
        }
      ]
    },
    {
      "cell_type": "code",
      "metadata": {
        "colab": {
          "base_uri": "https://localhost:8080/"
        },
        "id": "BLpP-rdc-I9s",
        "outputId": "98add5f0-cf03-40e3-8f36-7b813638efbc"
      },
      "source": [
        "def get_portfolio_statistics(asset_weights, matrix_of_return_values):\n",
        "    asset_means = np.asmatrix(np.mean(matrix_of_return_values, axis = 0))\n",
        "    #asset_covariances = np.asmatrix(np.cov(matrix_of_return_values)) \n",
        "    asset_covariances = np.asmatrix(matrix_of_return_values.cov())\n",
        "    #asset_covariances = np.cov(mathix_of_return_values, rowvar=False)\n",
        "    portfolio_mean = asset_weights * asset_means.T\n",
        "    portfolio_mean = portfolio_mean.item()\n",
        "    portfolio_standard_deviation = np.sqrt(asset_weights * asset_covariances * asset_weights.T)\n",
        "    portfolio_standard_deviation = portfolio_standard_deviation.item()\n",
        "    portfolio_sharpe_ratio = portfolio_mean / portfolio_standard_deviation\n",
        "    return portfolio_mean, portfolio_standard_deviation, portfolio_sharpe_ratio  \n",
        "    #print(portfolio_sharpe_ratio)\n",
        "get_portfolio_statistics(asset_weights, matrix_of_return_values)    "
      ],
      "execution_count": 12,
      "outputs": [
        {
          "output_type": "execute_result",
          "data": {
            "text/plain": [
              "(0.03044529115795395, 0.0658000316841825, 0.46269417170011207)"
            ]
          },
          "metadata": {},
          "execution_count": 12
        }
      ]
    },
    {
      "cell_type": "code",
      "metadata": {
        "id": "w-zrfoAaLNEE"
      },
      "source": [
        "while len(collection_of_random_asset_weights) < no_of_portfolios:\n",
        "    random_asset_weights = get_random_asset_weights(no_of_asset_classes)\n",
        "    collection_of_random_asset_weights.append(random_asset_weights) \n",
        "    A,B,C=get_portfolio_statistics(random_asset_weights,matrix_of_return_values)\n",
        "    portfolio_means.append(A)\n",
        "    portfolio_standard_deviations.append(B)\n",
        "    portfolio_sharpe_ratios.append(C)   "
      ],
      "execution_count": 13,
      "outputs": []
    },
    {
      "cell_type": "code",
      "metadata": {
        "id": "bqyUKkz-gnmK",
        "colab": {
          "base_uri": "https://localhost:8080/",
          "height": 265
        },
        "outputId": "2afc81a6-8a24-48dc-aaf0-39fd6e69151a"
      },
      "source": [
        "plt.plot(portfolio_standard_deviations, portfolio_means, 'o', markersize = 3, color = 'lightskyblue') \n",
        "plt.show()"
      ],
      "execution_count": 14,
      "outputs": [
        {
          "output_type": "display_data",
          "data": {
            "image/png": "[encoded data removed]",
            "text/plain": [
              "<Figure size 432x288 with 1 Axes>"
            ]
          },
          "metadata": {
            "needs_background": "light"
          }
        }
      ]
    },
    {
      "cell_type": "code",
      "metadata": {
        "id": "OkirZD11hTlT",
        "colab": {
          "base_uri": "https://localhost:8080/"
        },
        "outputId": "213fcd1a-99a2-4fbe-b4e9-a49d1db6c6b1"
      },
      "source": [
        "index = portfolio_sharpe_ratios.index(max(portfolio_sharpe_ratios))\n",
        "print(index)"
      ],
      "execution_count": 15,
      "outputs": [
        {
          "output_type": "stream",
          "name": "stdout",
          "text": [
            "469\n"
          ]
        }
      ]
    },
    {
      "cell_type": "code",
      "metadata": {
        "id": "t_bOxVkJhdC5",
        "colab": {
          "base_uri": "https://localhost:8080/"
        },
        "outputId": "b9af3420-35b6-4611-ac51-2f08d1872e5b"
      },
      "source": [
        "print(collection_of_random_asset_weights[index])\n",
        "print(portfolio_sharpe_ratios[index])"
      ],
      "execution_count": 16,
      "outputs": [
        {
          "output_type": "stream",
          "name": "stdout",
          "text": [
            "[[0.02550414 0.63397297 0.34052288]]\n",
            "0.5984440504853975\n"
          ]
        }
      ]
    },
    {
      "cell_type": "code",
      "metadata": {
        "id": "LvLiqEqChk-Q",
        "colab": {
          "base_uri": "https://localhost:8080/",
          "height": 265
        },
        "outputId": "cc0fdeff-3023-433c-c332-bf8a3fcfafcc"
      },
      "source": [
        "x = np.linspace(0, max(portfolio_standard_deviations), 500)\n",
        "y = portfolio_sharpe_ratios[index] * x\n",
        "plt.plot(portfolio_standard_deviations, portfolio_means, 'o', markersize = 3, color = 'lightskyblue')\n",
        "plt.plot(x, y, '-', linewidth = 2, color = 'green')\n",
        "plt.plot(portfolio_standard_deviations[index], portfolio_means[index], color= 'r', marker = 'o' )\n",
        "plt.show()"
      ],
      "execution_count": 17,
      "outputs": [
        {
          "output_type": "display_data",
          "data": {
            "image/png": "[encoded data removed]",
            "text/plain": [
              "<Figure size 432x288 with 1 Axes>"
            ]
          },
          "metadata": {
            "needs_background": "light"
          }
        }
      ]
    },
    {
      "cell_type": "markdown",
      "metadata": {
        "id": "t40fJ0xKMTW2"
      },
      "source": [
        ""
      ]
    }
  ]
}