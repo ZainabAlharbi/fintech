{
 "cells": [
  {
   "cell_type": "code",
   "execution_count": 11,
   "id": "de9b0e79-5e4c-44c7-9f34-b380e02e83d0",
   "metadata": {},
   "outputs": [
    {
     "name": "stdout",
     "output_type": "stream",
     "text": [
      "bird\n",
      "2\n"
     ]
    }
   ],
   "source": [
    "class pit:\n",
    "  def __init__(self, name, number):\n",
    "    self.name = name\n",
    "    self.number = number\n",
    "\n",
    "p = pit(\"bird\", 2)\n",
    "\n",
    "print(p.name)\n",
    "print(p.number)"
   ]
  },
  {
   "cell_type": "code",
   "execution_count": 12,
   "id": "e767b2f4-3fca-4d3f-8211-8fc9ba53c72d",
   "metadata": {},
   "outputs": [],
   "source": [
    "class pit:\n",
    "  pass"
   ]
  },
  {
   "cell_type": "code",
   "execution_count": 15,
   "id": "64d267c4-fd9b-481a-ba6c-d3c7dc270de3",
   "metadata": {},
   "outputs": [
    {
     "name": "stdout",
     "output_type": "stream",
     "text": [
      "Hello my name is Zainab\n"
     ]
    }
   ],
   "source": [
    "class Person:\n",
    "  def __init__(self, name):\n",
    "    self.name = name\n",
    "\n",
    "  def myfunc(self):\n",
    "    print(\"Hello my name is \" + self.name)\n",
    "\n",
    "p1 = Person(\"Zainab\")\n",
    "p1.myfunc()"
   ]
  }
 ],
 "metadata": {
  "kernelspec": {
   "display_name": "Python 3",
   "language": "python",
   "name": "python3"
  },
  "language_info": {
   "codemirror_mode": {
    "name": "ipython",
    "version": 3
   },
   "file_extension": ".py",
   "mimetype": "text/x-python",
   "name": "python",
   "nbconvert_exporter": "python",
   "pygments_lexer": "ipython3",
   "version": "3.8.8"
  }
 },
 "nbformat": 4,
 "nbformat_minor": 5
}
