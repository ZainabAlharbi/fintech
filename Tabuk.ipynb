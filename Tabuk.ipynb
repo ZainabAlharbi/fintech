{
  "nbformat": 4,
  "nbformat_minor": 0,
  "metadata": {
    "colab": {
      "name": "Untitled12.ipynb",
      "provenance": [],
      "authorship_tag": "ABX9TyPKjxAUBXqHhFEIJ31Uxvw4"
    },
    "kernelspec": {
      "name": "python3",
      "display_name": "Python 3"
    },
    "language_info": {
      "name": "python"
    }
  },
  "cells": [
    {
      "cell_type": "code",
      "metadata": {
        "id": "lRbRN-g9tKRc"
      },
      "source": [
        "import pandas as pd\n",
        "import numpy as np\n",
        "from matplotlib import pyplot as plt"
      ],
      "execution_count": 63,
      "outputs": []
    },
    {
      "cell_type": "code",
      "metadata": {
        "colab": {
          "base_uri": "https://localhost:8080/",
          "height": 450
        },
        "id": "d8AUyf5w7jIG",
        "outputId": "60ecd8c8-1b95-4aab-9f42-9e2ccfff405b"
      },
      "source": [
        "df = pd.read_csv(\"tabuk.csv\", index_col='Date',parse_dates=True)\n",
        "assert len(df)>0\n",
        "df"
      ],
      "execution_count": 68,
      "outputs": [
        {
          "output_type": "execute_result",
          "data": {
            "text/html": [
              "<div>\n",
              "<style scoped>\n",
              "    .dataframe tbody tr th:only-of-type {\n",
              "        vertical-align: middle;\n",
              "    }\n",
              "\n",
              "    .dataframe tbody tr th {\n",
              "        vertical-align: top;\n",
              "    }\n",
              "\n",
              "    .dataframe thead th {\n",
              "        text-align: right;\n",
              "    }\n",
              "</style>\n",
              "<table border=\"1\" class=\"dataframe\">\n",
              "  <thead>\n",
              "    <tr style=\"text-align: right;\">\n",
              "      <th></th>\n",
              "      <th>Stock_Price</th>\n",
              "      <th>Tabuk_Temperature</th>\n",
              "    </tr>\n",
              "    <tr>\n",
              "      <th>Date</th>\n",
              "      <th></th>\n",
              "      <th></th>\n",
              "    </tr>\n",
              "  </thead>\n",
              "  <tbody>\n",
              "    <tr>\n",
              "      <th>2021-03-01</th>\n",
              "      <td>22.9</td>\n",
              "      <td>26.0</td>\n",
              "    </tr>\n",
              "    <tr>\n",
              "      <th>2021-04-01</th>\n",
              "      <td>23.1</td>\n",
              "      <td>27.0</td>\n",
              "    </tr>\n",
              "    <tr>\n",
              "      <th>2021-05-01</th>\n",
              "      <td>22.9</td>\n",
              "      <td>27.0</td>\n",
              "    </tr>\n",
              "    <tr>\n",
              "      <th>2021-06-01</th>\n",
              "      <td>22.8</td>\n",
              "      <td>28.0</td>\n",
              "    </tr>\n",
              "    <tr>\n",
              "      <th>2021-07-01</th>\n",
              "      <td>22.8</td>\n",
              "      <td>28.4</td>\n",
              "    </tr>\n",
              "    <tr>\n",
              "      <th>...</th>\n",
              "      <td>...</td>\n",
              "      <td>...</td>\n",
              "    </tr>\n",
              "    <tr>\n",
              "      <th>2021-10-19</th>\n",
              "      <td>38.2</td>\n",
              "      <td>21.0</td>\n",
              "    </tr>\n",
              "    <tr>\n",
              "      <th>2021-10-20</th>\n",
              "      <td>37.6</td>\n",
              "      <td>17.8</td>\n",
              "    </tr>\n",
              "    <tr>\n",
              "      <th>2021-10-21</th>\n",
              "      <td>37.2</td>\n",
              "      <td>18.0</td>\n",
              "    </tr>\n",
              "    <tr>\n",
              "      <th>2021-10-24</th>\n",
              "      <td>37.3</td>\n",
              "      <td>15.0</td>\n",
              "    </tr>\n",
              "    <tr>\n",
              "      <th>2021-10-25</th>\n",
              "      <td>37.1</td>\n",
              "      <td>14.0</td>\n",
              "    </tr>\n",
              "  </tbody>\n",
              "</table>\n",
              "<p>202 rows × 2 columns</p>\n",
              "</div>"
            ],
            "text/plain": [
              "            Stock_Price  Tabuk_Temperature\n",
              "Date                                      \n",
              "2021-03-01         22.9               26.0\n",
              "2021-04-01         23.1               27.0\n",
              "2021-05-01         22.9               27.0\n",
              "2021-06-01         22.8               28.0\n",
              "2021-07-01         22.8               28.4\n",
              "...                 ...                ...\n",
              "2021-10-19         38.2               21.0\n",
              "2021-10-20         37.6               17.8\n",
              "2021-10-21         37.2               18.0\n",
              "2021-10-24         37.3               15.0\n",
              "2021-10-25         37.1               14.0\n",
              "\n",
              "[202 rows x 2 columns]"
            ]
          },
          "metadata": {},
          "execution_count": 68
        }
      ]
    },
    {
      "cell_type": "code",
      "metadata": {
        "colab": {
          "base_uri": "https://localhost:8080/"
        },
        "id": "0zz2znBsBkTd",
        "outputId": "cc4a98cf-24a5-47d3-900c-c740a6efb400"
      },
      "source": [
        "x_bar = np.mean(df['Stock_Price'])\n",
        "y_bar = np.mean(df['Tabuk_Temperature'])\n",
        "print(x_bar)\n",
        "print(y_bar)"
      ],
      "execution_count": 64,
      "outputs": [
        {
          "output_type": "stream",
          "name": "stdout",
          "text": [
            "32.98960396039606\n",
            "27.70445544554455\n"
          ]
        }
      ]
    },
    {
      "cell_type": "code",
      "metadata": {
        "id": "k2pS2N4yB1ui"
      },
      "source": [
        "df['x_var'] = (df['Stock_Price'] - x_bar)**2"
      ],
      "execution_count": 51,
      "outputs": []
    },
    {
      "cell_type": "code",
      "metadata": {
        "id": "JtPCBeo6CB19"
      },
      "source": [
        "df['xy_cov'] = (df['Stock_Price'] - x_bar) * (df['Tabuk_Temperature'] -  y_bar)"
      ],
      "execution_count": 53,
      "outputs": []
    },
    {
      "cell_type": "code",
      "metadata": {
        "colab": {
          "base_uri": "https://localhost:8080/"
        },
        "id": "v4DXiRnQCKnF",
        "outputId": "cadb0546-1d7b-4fd2-f7be-e4600bf6acf9"
      },
      "source": [
        "beta = df['xy_cov'].sum() / df['x_var'].sum()\n",
        "alpha = y_bar - beta * x_bar\n",
        "print(alpha)\n",
        "print(beta)"
      ],
      "execution_count": 54,
      "outputs": [
        {
          "output_type": "stream",
          "name": "stdout",
          "text": [
            "22.74604904230478\n",
            "0.15030208938525982\n"
          ]
        }
      ]
    },
    {
      "cell_type": "code",
      "metadata": {
        "id": "j7dFJoARCPHc"
      },
      "source": [
        "y_pred = alpha + beta * df['Stock_Price']"
      ],
      "execution_count": 58,
      "outputs": []
    },
    {
      "cell_type": "code",
      "metadata": {
        "colab": {
          "base_uri": "https://localhost:8080/",
          "height": 266
        },
        "id": "o01wcj-dCiOH",
        "outputId": "24859b21-a7da-490b-c9fc-d1d46911d3cf"
      },
      "source": [
        "x = df['Stock_Price']\n",
        "y = df['Tabuk_Temperature']\n",
        "plt.plot(x, y_pred)\n",
        "plt.scatter(x, y, color='r')\n",
        "plt.show()"
      ],
      "execution_count": 70,
      "outputs": [
        {
          "output_type": "display_data",
          "data": {
            "image/png": "[encoded data removed]",
            "text/plain": [
              "<Figure size 432x288 with 1 Axes>"
            ]
          },
          "metadata": {
            "needs_background": "light"
          }
        }
      ]
    }
  ]
}