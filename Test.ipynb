{
  "nbformat": 4,
  "nbformat_minor": 0,
  "metadata": {
    "colab": {
      "name": "Untitled18.ipynb",
      "provenance": [],
      "authorship_tag": "ABX9TyPUxsU8g2TXPzSbP5tCNtop"
    },
    "kernelspec": {
      "name": "python3",
      "display_name": "Python 3"
    },
    "language_info": {
      "name": "python"
    }
  },
  "cells": [
    {
      "cell_type": "markdown",
      "metadata": {
        "id": "RIGhjEoUu32T"
      },
      "source": [
        "Revenue Growth Factor: 18% of prior period Revenue\n",
        "\n",
        "EBITDA Margin: 45.0% of current Revenue\n",
        "\n",
        "Taxes: 21% of current EDBITDA\n",
        "\n",
        "Capital Expenditures: 3% of current Revenue\n",
        "\n",
        "Working Capital Increase: 6% of Revenue\n",
        "\n",
        "EBITDA Exit Multiple: 32.70\n",
        "\n",
        "Discount Factor: 0.94 (6%). "
      ]
    },
    {
      "cell_type": "markdown",
      "metadata": {
        "id": "BQSJhkTVu_cO"
      },
      "source": [
        "We would like a ten year model starting in 2022 to 2032.\n",
        "\n",
        "Your starting baseline historical Revenue is 222 for the FY 2021 (assume it's over for now). \n",
        "\n",
        "Parameters:  Values"
      ]
    },
    {
      "cell_type": "code",
      "metadata": {
        "id": "hbvFHaEluwKn"
      },
      "source": [
        "import numpy as np\n",
        "import pandas as pd\n",
        "import matplotlib.pyplot as plt"
      ],
      "execution_count": null,
      "outputs": []
    },
    {
      "cell_type": "code",
      "metadata": {
        "colab": {
          "base_uri": "https://localhost:8080/"
        },
        "id": "K4f395sBvGA-",
        "outputId": "fcaefbf3-45fa-4153-cfa7-0122112c24ff"
      },
      "source": [
        "years = ['2021','2022', '2023', '2024', '2025', '2026', '2027','2028', '2029','2030', '2031','2032' ]\n",
        "Revenue = pd.Series(index=years)\n",
        "Revenue['2021'] = 222\n",
        "Revenue"
      ],
      "execution_count": null,
      "outputs": [
        {
          "output_type": "stream",
          "name": "stderr",
          "text": [
            "/usr/local/lib/python3.7/dist-packages/ipykernel_launcher.py:2: DeprecationWarning: The default dtype for empty Series will be 'object' instead of 'float64' in a future version. Specify a dtype explicitly to silence this warning.\n",
            "  \n"
          ]
        },
        {
          "output_type": "execute_result",
          "data": {
            "text/plain": [
              "2021    222.0\n",
              "2022      NaN\n",
              "2023      NaN\n",
              "2024      NaN\n",
              "2025      NaN\n",
              "2026      NaN\n",
              "2027      NaN\n",
              "2028      NaN\n",
              "2029      NaN\n",
              "2030      NaN\n",
              "2031      NaN\n",
              "2032      NaN\n",
              "dtype: float64"
            ]
          },
          "metadata": {},
          "execution_count": 2
        }
      ]
    },
    {
      "cell_type": "code",
      "metadata": {
        "colab": {
          "base_uri": "https://localhost:8080/"
        },
        "id": "bEoHljDewKtZ",
        "outputId": "661ff2be-41fd-4626-80de-39c9ff5bdb3e"
      },
      "source": [
        "growth_rate = 0.18\n",
        "for year in range(1, 12):\n",
        "    Revenue[year] = Revenue[year - 1] * (1 + growth_rate)\n",
        "Revenue    "
      ],
      "execution_count": null,
      "outputs": [
        {
          "output_type": "execute_result",
          "data": {
            "text/plain": [
              "2021     222.000000\n",
              "2022     261.960000\n",
              "2023     309.112800\n",
              "2024     364.753104\n",
              "2025     430.408663\n",
              "2026     507.882222\n",
              "2027     599.301022\n",
              "2028     707.175206\n",
              "2029     834.466743\n",
              "2030     984.670757\n",
              "2031    1161.911493\n",
              "2032    1371.055562\n",
              "dtype: float64"
            ]
          },
          "metadata": {},
          "execution_count": 3
        }
      ]
    },
    {
      "cell_type": "code",
      "metadata": {
        "colab": {
          "base_uri": "https://localhost:8080/"
        },
        "id": "ljYBaBT1wtbB",
        "outputId": "763ab3e0-1eea-46ec-a435-3297a7014abc"
      },
      "source": [
        "ebitda_margin = 0.45\n",
        "ebitda = Revenue * ebitda_margin \n",
        "ebitda"
      ],
      "execution_count": null,
      "outputs": [
        {
          "output_type": "execute_result",
          "data": {
            "text/plain": [
              "2021     99.900000\n",
              "2022    117.882000\n",
              "2023    139.100760\n",
              "2024    164.138897\n",
              "2025    193.683898\n",
              "2026    228.547000\n",
              "2027    269.685460\n",
              "2028    318.228843\n",
              "2029    375.510034\n",
              "2030    443.101841\n",
              "2031    522.860172\n",
              "2032    616.975003\n",
              "dtype: float64"
            ]
          },
          "metadata": {},
          "execution_count": 4
        }
      ]
    },
    {
      "cell_type": "code",
      "metadata": {
        "colab": {
          "base_uri": "https://localhost:8080/"
        },
        "id": "1xkEMhCG_bb-",
        "outputId": "7e91b9ca-3845-4500-c71c-01c6a563bcd8"
      },
      "source": [
        "tax_rate = 0.21\n",
        "tax = -ebitda * tax_rate\n",
        "tax_payment = tax.apply(lambda x: min(x, 0))\n",
        "tax"
      ],
      "execution_count": null,
      "outputs": [
        {
          "output_type": "execute_result",
          "data": {
            "text/plain": [
              "2021    -20.979000\n",
              "2022    -24.755220\n",
              "2023    -29.211160\n",
              "2024    -34.469168\n",
              "2025    -40.673619\n",
              "2026    -47.994870\n",
              "2027    -56.633947\n",
              "2028    -66.828057\n",
              "2029    -78.857107\n",
              "2030    -93.051387\n",
              "2031   -109.800636\n",
              "2032   -129.564751\n",
              "dtype: float64"
            ]
          },
          "metadata": {},
          "execution_count": 5
        }
      ]
    },
    {
      "cell_type": "code",
      "metadata": {
        "colab": {
          "base_uri": "https://localhost:8080/"
        },
        "id": "blXujcp4_27H",
        "outputId": "7c078427-5a14-4e9d-8848-2aa60868c6bb"
      },
      "source": [
        "capex_percent = 0.03\n",
        "capital_expenditures = -(Revenue * capex_percent)\n",
        "capital_expenditures"
      ],
      "execution_count": null,
      "outputs": [
        {
          "output_type": "execute_result",
          "data": {
            "text/plain": [
              "2021    -6.660000\n",
              "2022    -7.858800\n",
              "2023    -9.273384\n",
              "2024   -10.942593\n",
              "2025   -12.912260\n",
              "2026   -15.236467\n",
              "2027   -17.979031\n",
              "2028   -21.215256\n",
              "2029   -25.034002\n",
              "2030   -29.540123\n",
              "2031   -34.857345\n",
              "2032   -41.131667\n",
              "dtype: float64"
            ]
          },
          "metadata": {},
          "execution_count": 6
        }
      ]
    },
    {
      "cell_type": "code",
      "metadata": {
        "colab": {
          "base_uri": "https://localhost:8080/"
        },
        "id": "2Cm8VujkAX28",
        "outputId": "88f9eeea-0b9c-494e-d984-d18969360652"
      },
      "source": [
        "nwc_percent = 0.06\n",
        "nwc = Revenue * nwc_percent\n",
        "change_in_nwc = nwc.shift(1) - nwc\n",
        "#to be changed to 0\n",
        "change_in_nwc"
      ],
      "execution_count": null,
      "outputs": [
        {
          "output_type": "execute_result",
          "data": {
            "text/plain": [
              "2021          NaN\n",
              "2022    -2.397600\n",
              "2023    -2.829168\n",
              "2024    -3.338418\n",
              "2025    -3.939334\n",
              "2026    -4.648414\n",
              "2027    -5.485128\n",
              "2028    -6.472451\n",
              "2029    -7.637492\n",
              "2030    -9.012241\n",
              "2031   -10.634444\n",
              "2032   -12.548644\n",
              "dtype: float64"
            ]
          },
          "metadata": {},
          "execution_count": 7
        }
      ]
    },
    {
      "cell_type": "code",
      "metadata": {
        "colab": {
          "base_uri": "https://localhost:8080/"
        },
        "id": "2O0FzxIgApl0",
        "outputId": "c8331735-ca65-4c30-83d5-b6f89b1c096d"
      },
      "source": [
        "cash_flow = ebitda + tax + capital_expenditures + change_in_nwc\n",
        "cash_flow"
      ],
      "execution_count": null,
      "outputs": [
        {
          "output_type": "execute_result",
          "data": {
            "text/plain": [
              "2021           NaN\n",
              "2022     82.870380\n",
              "2023     97.787048\n",
              "2024    115.388717\n",
              "2025    136.158686\n",
              "2026    160.667250\n",
              "2027    189.587355\n",
              "2028    223.713078\n",
              "2029    263.981433\n",
              "2030    311.498090\n",
              "2031    367.567747\n",
              "2032    433.729941\n",
              "dtype: float64"
            ]
          },
          "metadata": {},
          "execution_count": 8
        }
      ]
    },
    {
      "cell_type": "code",
      "metadata": {
        "colab": {
          "base_uri": "https://localhost:8080/"
        },
        "id": "MP8Vq54mCOhg",
        "outputId": "64250adf-8f75-4499-f42d-64ce2e74c55a"
      },
      "source": [
        "#Discount Factor\n",
        "discount_rate = 0.06\n",
        "#terminal_growth = 0.06\n",
        "#terminal_value = ((cash_flow[-1] * (1 + terminal_growth)) / \n",
        "                 #(cost_of_capital - terminal_growth))\n",
        "discount_factor = [(1 / (1 + discount_rate)) ** i for i in range (0,12)]\n",
        "discount_factor"
      ],
      "execution_count": null,
      "outputs": [
        {
          "output_type": "execute_result",
          "data": {
            "text/plain": [
              "[1.0,\n",
              " 0.9433962264150942,\n",
              " 0.8899964400142397,\n",
              " 0.8396192830323016,\n",
              " 0.7920936632380202,\n",
              " 0.7472581728660568,\n",
              " 0.7049605404396762,\n",
              " 0.6650571136223359,\n",
              " 0.6274123713418263,\n",
              " 0.5918984635300247,\n",
              " 0.5583947769151176,\n",
              " 0.5267875253916203]"
            ]
          },
          "metadata": {},
          "execution_count": 9
        }
      ]
    },
    {
      "cell_type": "code",
      "metadata": {
        "colab": {
          "base_uri": "https://localhost:8080/"
        },
        "id": "UehyX9v0FPdr",
        "outputId": "ace94130-0af5-475b-a744-6a938348775d"
      },
      "source": [
        "#Present Value of Future Cash Flow\n",
        "pv_of_fcf = (cash_flow * discount_factor)\n",
        "pv_of_fcf\n"
      ],
      "execution_count": null,
      "outputs": [
        {
          "output_type": "execute_result",
          "data": {
            "text/plain": [
              "2021           NaN\n",
              "2022     78.179604\n",
              "2023     87.030125\n",
              "2024     96.882592\n",
              "2025    107.850433\n",
              "2026    120.059915\n",
              "2027    133.651604\n",
              "2028    148.781974\n",
              "2029    165.625217\n",
              "2030    184.375241\n",
              "2031    205.247910\n",
              "2032    228.483522\n",
              "dtype: float64"
            ]
          },
          "metadata": {},
          "execution_count": 12
        }
      ]
    },
    {
      "cell_type": "code",
      "metadata": {
        "colab": {
          "base_uri": "https://localhost:8080/"
        },
        "id": "m4yg9gK_kYZr",
        "outputId": "921619de-78b3-45b4-de1d-e08d126502b6"
      },
      "source": [
        "#total present value of Future Cash Flows\n",
        "t_pv_of_fcf = pv_of_fcf.sum()\n",
        "t_pv_of_fcf"
      ],
      "execution_count": null,
      "outputs": [
        {
          "output_type": "execute_result",
          "data": {
            "text/plain": [
              "1556.1681370653096"
            ]
          },
          "metadata": {},
          "execution_count": 13
        }
      ]
    },
    {
      "cell_type": "code",
      "metadata": {
        "colab": {
          "base_uri": "https://localhost:8080/"
        },
        "id": "XrRWdSAgpeKR",
        "outputId": "11bc0a1a-ca50-4f7c-ef1b-732b52b12d38"
      },
      "source": [
        "#terminal_value \n",
        "ebitda_exit_multiple = 32.70\n",
        "terminal_value = (ebitda_exit_multiple*ebitda[11])\n",
        "terminal_value"
      ],
      "execution_count": null,
      "outputs": [
        {
          "output_type": "execute_result",
          "data": {
            "text/plain": [
              "20175.082590019254"
            ]
          },
          "metadata": {},
          "execution_count": 30
        }
      ]
    },
    {
      "cell_type": "code",
      "metadata": {
        "colab": {
          "base_uri": "https://localhost:8080/"
        },
        "id": "2BmlwLy8rm91",
        "outputId": "6117fb46-af05-46d9-d79e-a1dd3e545beb"
      },
      "source": [
        "#present_assets_value\n",
        "present_assets_value = (t_pv_of_fcf + terminal_value)\n",
        "present_assets_value"
      ],
      "execution_count": null,
      "outputs": [
        {
          "output_type": "execute_result",
          "data": {
            "text/plain": [
              "21731.250727084564"
            ]
          },
          "metadata": {},
          "execution_count": 31
        }
      ]
    },
    {
      "cell_type": "code",
      "metadata": {
        "colab": {
          "base_uri": "https://localhost:8080/"
        },
        "id": "DoLP_p-5sY9V",
        "outputId": "5c9fd5da-0cee-4c4d-cade-9fa2f2c672e4"
      },
      "source": [
        "x = \"Our projected Present Value of Projected Future Cash Flows are: <the-value>[t_pv_of_fcf]. We are providing revenue guidance in 2032 to be: <the-value>[Revenue[11]]. With an estimated EBITDA around: <the-value>[ebitda[11]].\"\n",
        "\n",
        "x1 = \"The terminal value a this time given a multiple of <[ebitda_exit_multiple]> and the above EBITDA for 2030, would equal: <your-terminal-value-here>[t_pv_of_fcf].\"\n",
        "print(x)\n",
        "print(x1)"
      ],
      "execution_count": null,
      "outputs": [
        {
          "output_type": "stream",
          "name": "stdout",
          "text": [
            "Our projected Present Value of Projected Future Cash Flows are: <the-value>[t_pv_of_fcf]. We are providing revenue guidance in 2032 to be: <the-value>[Revenue[11]]. With an estimated EBITDA around: <the-value>[ebitda[11]].\n",
            "The terminal value a this time given a multiple of <[ebitda_exit_multiple]> and the above EBITDA for 2030, would equal: <your-terminal-value-here>[t_pv_of_fcf].\n"
          ]
        }
      ]
    }
  ]
}