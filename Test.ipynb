{
  "nbformat": 4,
  "nbformat_minor": 0,
  "metadata": {
    "colab": {
      "name": "Untitled18.ipynb",
      "provenance": [],
      "authorship_tag": "ABX9TyPldex7J30vGOQkHhmizOqa"
    },
    "kernelspec": {
      "name": "python3",
      "display_name": "Python 3"
    },
    "language_info": {
      "name": "python"
    }
  },
  "cells": [
    {
      "cell_type": "markdown",
      "metadata": {
        "id": "RIGhjEoUu32T"
      },
      "source": [
        "Revenue Growth Factor: 18% of prior period Revenue\n",
        "\n",
        "EBITDA Margin: 45.0% of current Revenue\n",
        "\n",
        "Taxes: 21% of current EDBITDA\n",
        "\n",
        "Capital Expenditures: 3% of current Revenue\n",
        "\n",
        "Working Capital Increase: 6% of Revenue\n",
        "\n",
        "EBITDA Exit Multiple: 32.70\n",
        "\n",
        "Discount Factor: 0.94 (6%). "
      ]
    },
    {
      "cell_type": "markdown",
      "metadata": {
        "id": "BQSJhkTVu_cO"
      },
      "source": [
        "We would like a ten year model starting in 2022 to 2032.\n",
        "\n",
        "Your starting baseline historical Revenue is 222 for the FY 2021 (assume it's over for now). \n",
        "\n",
        "Parameters:  Values"
      ]
    },
    {
      "cell_type": "code",
      "metadata": {
        "id": "hbvFHaEluwKn"
      },
      "source": [
        "import numpy as np\n",
        "import pandas as pd\n",
        "import matplotlib.pyplot as plt"
      ],
      "execution_count": 1,
      "outputs": []
    },
    {
      "cell_type": "code",
      "metadata": {
        "colab": {
          "base_uri": "https://localhost:8080/"
        },
        "id": "K4f395sBvGA-",
        "outputId": "f25992c4-a182-49a9-de75-8e0f19ecef68"
      },
      "source": [
        "years = ['2021','2022', '2023', '2024', '2025', '2026', '2027','2028', '2029','2030', '2031','2032' ]\n",
        "Revenue = pd.Series(index=years)\n",
        "Revenue['2021'] = 222\n",
        "Revenue"
      ],
      "execution_count": 6,
      "outputs": [
        {
          "output_type": "stream",
          "name": "stderr",
          "text": [
            "/usr/local/lib/python3.7/dist-packages/ipykernel_launcher.py:2: DeprecationWarning: The default dtype for empty Series will be 'object' instead of 'float64' in a future version. Specify a dtype explicitly to silence this warning.\n",
            "  \n"
          ]
        },
        {
          "output_type": "execute_result",
          "data": {
            "text/plain": [
              "2021    222.0\n",
              "2022      NaN\n",
              "2023      NaN\n",
              "2024      NaN\n",
              "2025      NaN\n",
              "2026      NaN\n",
              "2027      NaN\n",
              "2028      NaN\n",
              "2029      NaN\n",
              "2030      NaN\n",
              "2031      NaN\n",
              "2032      NaN\n",
              "dtype: float64"
            ]
          },
          "metadata": {},
          "execution_count": 6
        }
      ]
    },
    {
      "cell_type": "code",
      "metadata": {
        "colab": {
          "base_uri": "https://localhost:8080/"
        },
        "id": "bEoHljDewKtZ",
        "outputId": "e7ba4f92-418f-4a9b-a806-4826aa69d9f1"
      },
      "source": [
        "growth_rate = 0.18\n",
        "for year in range(1, 12):\n",
        "    Revenue[year] = Revenue[year - 1] * (1 + growth_rate)\n",
        "Revenue    "
      ],
      "execution_count": 8,
      "outputs": [
        {
          "output_type": "execute_result",
          "data": {
            "text/plain": [
              "2021     222.000000\n",
              "2022     261.960000\n",
              "2023     309.112800\n",
              "2024     364.753104\n",
              "2025     430.408663\n",
              "2026     507.882222\n",
              "2027     599.301022\n",
              "2028     707.175206\n",
              "2029     834.466743\n",
              "2030     984.670757\n",
              "2031    1161.911493\n",
              "2032    1371.055562\n",
              "dtype: float64"
            ]
          },
          "metadata": {},
          "execution_count": 8
        }
      ]
    },
    {
      "cell_type": "code",
      "metadata": {
        "colab": {
          "base_uri": "https://localhost:8080/"
        },
        "id": "ljYBaBT1wtbB",
        "outputId": "a7b322ce-210c-40b5-87ae-d455cf650f98"
      },
      "source": [
        "ebitda_margin = 0.45\n",
        "ebitda = Revenue * ebitda_margin \n",
        "ebitda"
      ],
      "execution_count": 9,
      "outputs": [
        {
          "output_type": "execute_result",
          "data": {
            "text/plain": [
              "2021     99.900000\n",
              "2022    117.882000\n",
              "2023    139.100760\n",
              "2024    164.138897\n",
              "2025    193.683898\n",
              "2026    228.547000\n",
              "2027    269.685460\n",
              "2028    318.228843\n",
              "2029    375.510034\n",
              "2030    443.101841\n",
              "2031    522.860172\n",
              "2032    616.975003\n",
              "dtype: float64"
            ]
          },
          "metadata": {},
          "execution_count": 9
        }
      ]
    },
    {
      "cell_type": "code",
      "metadata": {
        "colab": {
          "base_uri": "https://localhost:8080/"
        },
        "id": "1xkEMhCG_bb-",
        "outputId": "a2fa4dc3-8567-4a66-b636-293bbc9c9dda"
      },
      "source": [
        "tax_rate = 0.21\n",
        "tax = -ebitda * tax_rate\n",
        "tax_payment = tax.apply(lambda x: min(x, 0))\n",
        "tax_payment"
      ],
      "execution_count": 18,
      "outputs": [
        {
          "output_type": "execute_result",
          "data": {
            "text/plain": [
              "2021    -20.979000\n",
              "2022    -24.755220\n",
              "2023    -29.211160\n",
              "2024    -34.469168\n",
              "2025    -40.673619\n",
              "2026    -47.994870\n",
              "2027    -56.633947\n",
              "2028    -66.828057\n",
              "2029    -78.857107\n",
              "2030    -93.051387\n",
              "2031   -109.800636\n",
              "2032   -129.564751\n",
              "dtype: float64"
            ]
          },
          "metadata": {},
          "execution_count": 18
        }
      ]
    },
    {
      "cell_type": "code",
      "metadata": {
        "colab": {
          "base_uri": "https://localhost:8080/"
        },
        "id": "blXujcp4_27H",
        "outputId": "95915e0f-fe82-4cdb-f82c-0d75700ee58e"
      },
      "source": [
        "capex_percent = 0.03\n",
        "capital_expenditures = -(Revenue * capex_percent)\n",
        "capital_expenditures"
      ],
      "execution_count": 12,
      "outputs": [
        {
          "output_type": "execute_result",
          "data": {
            "text/plain": [
              "2021    -6.660000\n",
              "2022    -7.858800\n",
              "2023    -9.273384\n",
              "2024   -10.942593\n",
              "2025   -12.912260\n",
              "2026   -15.236467\n",
              "2027   -17.979031\n",
              "2028   -21.215256\n",
              "2029   -25.034002\n",
              "2030   -29.540123\n",
              "2031   -34.857345\n",
              "2032   -41.131667\n",
              "dtype: float64"
            ]
          },
          "metadata": {},
          "execution_count": 12
        }
      ]
    },
    {
      "cell_type": "code",
      "metadata": {
        "colab": {
          "base_uri": "https://localhost:8080/"
        },
        "id": "2Cm8VujkAX28",
        "outputId": "b4232504-1bbe-4641-d45b-eaa7217cfc66"
      },
      "source": [
        "nwc_percent = 0.06\n",
        "nwc = Revenue * nwc_percent\n",
        "change_in_nwc = nwc.shift(1) - nwc\n",
        "#to be changed to 0\n",
        "change_in_nwc"
      ],
      "execution_count": 22,
      "outputs": [
        {
          "output_type": "execute_result",
          "data": {
            "text/plain": [
              "2021          NaN\n",
              "2022    -2.397600\n",
              "2023    -2.829168\n",
              "2024    -3.338418\n",
              "2025    -3.939334\n",
              "2026    -4.648414\n",
              "2027    -5.485128\n",
              "2028    -6.472451\n",
              "2029    -7.637492\n",
              "2030    -9.012241\n",
              "2031   -10.634444\n",
              "2032   -12.548644\n",
              "dtype: float64"
            ]
          },
          "metadata": {},
          "execution_count": 22
        }
      ]
    },
    {
      "cell_type": "code",
      "metadata": {
        "colab": {
          "base_uri": "https://localhost:8080/"
        },
        "id": "2O0FzxIgApl0",
        "outputId": "752ce6eb-d382-4ecb-96b6-a6b3e933b972"
      },
      "source": [
        "cash_flow = ebitda + tax_payment + capital_expenditures + change_in_nwc\n",
        "cash_flow"
      ],
      "execution_count": 21,
      "outputs": [
        {
          "output_type": "execute_result",
          "data": {
            "text/plain": [
              "2021           NaN\n",
              "2022     82.870380\n",
              "2023     97.787048\n",
              "2024    115.388717\n",
              "2025    136.158686\n",
              "2026    160.667250\n",
              "2027    189.587355\n",
              "2028    223.713078\n",
              "2029    263.981433\n",
              "2030    311.498090\n",
              "2031    367.567747\n",
              "2032    433.729941\n",
              "dtype: float64"
            ]
          },
          "metadata": {},
          "execution_count": 21
        }
      ]
    },
    {
      "cell_type": "code",
      "metadata": {
        "colab": {
          "base_uri": "https://localhost:8080/"
        },
        "id": "MP8Vq54mCOhg",
        "outputId": "e310d39f-6671-45e6-dc61-6009577cb66f"
      },
      "source": [
        "#Discount Factor\n",
        "discount_rate = 0.06\n",
        "#terminal_growth = 0.06\n",
        "#terminal_value = ((cash_flow[-1] * (1 + terminal_growth)) / \n",
        "                 #(cost_of_capital - terminal_growth))\n",
        "discount_factors = [(1 / (1 + discount_rate)) ** i for i in range (0,12)]\n",
        "discount_factors"
      ],
      "execution_count": 26,
      "outputs": [
        {
          "output_type": "execute_result",
          "data": {
            "text/plain": [
              "[1.0,\n",
              " 0.9433962264150942,\n",
              " 0.8899964400142397,\n",
              " 0.8396192830323016,\n",
              " 0.7920936632380202,\n",
              " 0.7472581728660568,\n",
              " 0.7049605404396762,\n",
              " 0.6650571136223359,\n",
              " 0.6274123713418263,\n",
              " 0.5918984635300247,\n",
              " 0.5583947769151176,\n",
              " 0.5267875253916203]"
            ]
          },
          "metadata": {},
          "execution_count": 26
        }
      ]
    },
    {
      "cell_type": "code",
      "metadata": {
        "id": "UehyX9v0FPdr"
      },
      "source": [
        "#Present Value of Future Cash Flow\n"
      ],
      "execution_count": null,
      "outputs": []
    }
  ]
}