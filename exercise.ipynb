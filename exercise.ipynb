{
  "nbformat": 4,
  "nbformat_minor": 0,
  "metadata": {
    "colab": {
      "name": "Untitled20.ipynb",
      "provenance": [],
      "authorship_tag": "ABX9TyMJuw3hseunTWNobmyvfU7N"
    },
    "kernelspec": {
      "display_name": "Python 3",
      "name": "python3"
    },
    "language_info": {
      "name": "python"
    }
  },
  "cells": [
    {
      "cell_type": "code",
      "metadata": {
        "id": "0OKL7Jw5T2FG"
      },
      "source": [
        "import numpy as np\n",
        "import pandas as pd\n",
        "import statsmodels.api as sm\n",
        "from datetime import datetime\n",
        "import pandas_datareader as pdr\n",
        "import pandas.util.testing as tm"
      ],
      "execution_count": 22,
      "outputs": []
    },
    {
      "cell_type": "code",
      "metadata": {
        "colab": {
          "base_uri": "https://localhost:8080/",
          "height": 235
        },
        "id": "pOxliPaRcmoM",
        "outputId": "c8ce9db0-41eb-4c34-f756-ed3eda0e271a"
      },
      "source": [
        "SA_oil = pd.read_csv(\"2222.csv\", usecols=['Date', 'Adj Close'],\n",
        "                                   parse_dates=[\"Date\"],\n",
        "                                   index_col=[\"Date\"])\n",
        "#SA_oil = SA_oil.rename()\n",
        "SA_oil.head()"
      ],
      "execution_count": 2,
      "outputs": [
        {
          "output_type": "execute_result",
          "data": {
            "text/html": [
              "<div>\n",
              "<style scoped>\n",
              "    .dataframe tbody tr th:only-of-type {\n",
              "        vertical-align: middle;\n",
              "    }\n",
              "\n",
              "    .dataframe tbody tr th {\n",
              "        vertical-align: top;\n",
              "    }\n",
              "\n",
              "    .dataframe thead th {\n",
              "        text-align: right;\n",
              "    }\n",
              "</style>\n",
              "<table border=\"1\" class=\"dataframe\">\n",
              "  <thead>\n",
              "    <tr style=\"text-align: right;\">\n",
              "      <th></th>\n",
              "      <th>Adj Close</th>\n",
              "    </tr>\n",
              "    <tr>\n",
              "      <th>Date</th>\n",
              "      <th></th>\n",
              "    </tr>\n",
              "  </thead>\n",
              "  <tbody>\n",
              "    <tr>\n",
              "      <th>2020-01-01</th>\n",
              "      <td>28.788849</td>\n",
              "    </tr>\n",
              "    <tr>\n",
              "      <th>2020-02-01</th>\n",
              "      <td>28.114435</td>\n",
              "    </tr>\n",
              "    <tr>\n",
              "      <th>2020-03-01</th>\n",
              "      <td>25.416800</td>\n",
              "    </tr>\n",
              "    <tr>\n",
              "      <th>2020-04-01</th>\n",
              "      <td>26.749390</td>\n",
              "    </tr>\n",
              "    <tr>\n",
              "      <th>2020-05-01</th>\n",
              "      <td>27.890360</td>\n",
              "    </tr>\n",
              "  </tbody>\n",
              "</table>\n",
              "</div>"
            ],
            "text/plain": [
              "            Adj Close\n",
              "Date                 \n",
              "2020-01-01  28.788849\n",
              "2020-02-01  28.114435\n",
              "2020-03-01  25.416800\n",
              "2020-04-01  26.749390\n",
              "2020-05-01  27.890360"
            ]
          },
          "metadata": {},
          "execution_count": 2
        }
      ]
    },
    {
      "cell_type": "code",
      "metadata": {
        "colab": {
          "base_uri": "https://localhost:8080/",
          "height": 235
        },
        "id": "SDXLEHX_Rxl4",
        "outputId": "d2b21260-52d4-4cd2-9bba-05b47b61204b"
      },
      "source": [
        "# retuen = (current - pervious) / current\n",
        "returns_SA_oil = SA_oil.pct_change()\n",
        "returns_SA_oil.head()\n",
        "#returns_SA_oil.shape"
      ],
      "execution_count": 3,
      "outputs": [
        {
          "output_type": "execute_result",
          "data": {
            "text/html": [
              "<div>\n",
              "<style scoped>\n",
              "    .dataframe tbody tr th:only-of-type {\n",
              "        vertical-align: middle;\n",
              "    }\n",
              "\n",
              "    .dataframe tbody tr th {\n",
              "        vertical-align: top;\n",
              "    }\n",
              "\n",
              "    .dataframe thead th {\n",
              "        text-align: right;\n",
              "    }\n",
              "</style>\n",
              "<table border=\"1\" class=\"dataframe\">\n",
              "  <thead>\n",
              "    <tr style=\"text-align: right;\">\n",
              "      <th></th>\n",
              "      <th>Adj Close</th>\n",
              "    </tr>\n",
              "    <tr>\n",
              "      <th>Date</th>\n",
              "      <th></th>\n",
              "    </tr>\n",
              "  </thead>\n",
              "  <tbody>\n",
              "    <tr>\n",
              "      <th>2020-01-01</th>\n",
              "      <td>NaN</td>\n",
              "    </tr>\n",
              "    <tr>\n",
              "      <th>2020-02-01</th>\n",
              "      <td>-0.023426</td>\n",
              "    </tr>\n",
              "    <tr>\n",
              "      <th>2020-03-01</th>\n",
              "      <td>-0.095952</td>\n",
              "    </tr>\n",
              "    <tr>\n",
              "      <th>2020-04-01</th>\n",
              "      <td>0.052429</td>\n",
              "    </tr>\n",
              "    <tr>\n",
              "      <th>2020-05-01</th>\n",
              "      <td>0.042654</td>\n",
              "    </tr>\n",
              "  </tbody>\n",
              "</table>\n",
              "</div>"
            ],
            "text/plain": [
              "            Adj Close\n",
              "Date                 \n",
              "2020-01-01        NaN\n",
              "2020-02-01  -0.023426\n",
              "2020-03-01  -0.095952\n",
              "2020-04-01   0.052429\n",
              "2020-05-01   0.042654"
            ]
          },
          "metadata": {},
          "execution_count": 3
        }
      ]
    },
    {
      "cell_type": "code",
      "metadata": {
        "colab": {
          "base_uri": "https://localhost:8080/",
          "height": 235
        },
        "id": "62diC7rYetFy",
        "outputId": "5b6b9c99-a6cc-4868-f018-3b12050ae292"
      },
      "source": [
        "Rajhi = pd.read_csv(\"1120.csv\", usecols=['Date', 'Adj Close'],\n",
        "                                   parse_dates=[\"Date\"],\n",
        "                                   index_col=[\"Date\"])\n",
        "\n",
        "#df.head()\n",
        "returns_Rajhi = Rajhi.pct_change()\n",
        "returns_Rajhi.head()"
      ],
      "execution_count": 4,
      "outputs": [
        {
          "output_type": "execute_result",
          "data": {
            "text/html": [
              "<div>\n",
              "<style scoped>\n",
              "    .dataframe tbody tr th:only-of-type {\n",
              "        vertical-align: middle;\n",
              "    }\n",
              "\n",
              "    .dataframe tbody tr th {\n",
              "        vertical-align: top;\n",
              "    }\n",
              "\n",
              "    .dataframe thead th {\n",
              "        text-align: right;\n",
              "    }\n",
              "</style>\n",
              "<table border=\"1\" class=\"dataframe\">\n",
              "  <thead>\n",
              "    <tr style=\"text-align: right;\">\n",
              "      <th></th>\n",
              "      <th>Adj Close</th>\n",
              "    </tr>\n",
              "    <tr>\n",
              "      <th>Date</th>\n",
              "      <th></th>\n",
              "    </tr>\n",
              "  </thead>\n",
              "  <tbody>\n",
              "    <tr>\n",
              "      <th>2020-01-01</th>\n",
              "      <td>NaN</td>\n",
              "    </tr>\n",
              "    <tr>\n",
              "      <th>2020-02-01</th>\n",
              "      <td>-0.054217</td>\n",
              "    </tr>\n",
              "    <tr>\n",
              "      <th>2020-03-01</th>\n",
              "      <td>-0.143312</td>\n",
              "    </tr>\n",
              "    <tr>\n",
              "      <th>2020-04-01</th>\n",
              "      <td>0.093006</td>\n",
              "    </tr>\n",
              "    <tr>\n",
              "      <th>2020-05-01</th>\n",
              "      <td>0.008741</td>\n",
              "    </tr>\n",
              "  </tbody>\n",
              "</table>\n",
              "</div>"
            ],
            "text/plain": [
              "            Adj Close\n",
              "Date                 \n",
              "2020-01-01        NaN\n",
              "2020-02-01  -0.054217\n",
              "2020-03-01  -0.143312\n",
              "2020-04-01   0.093006\n",
              "2020-05-01   0.008741"
            ]
          },
          "metadata": {},
          "execution_count": 4
        }
      ]
    },
    {
      "cell_type": "code",
      "metadata": {
        "colab": {
          "base_uri": "https://localhost:8080/",
          "height": 235
        },
        "id": "VdMnHtIZfBkR",
        "outputId": "4b865ebf-74c3-4580-9535-4ecc3b3e7150"
      },
      "source": [
        "Sabic = df = pd.read_csv(\"2020.csv\", usecols=['Date', 'Adj Close'],\n",
        "                                   parse_dates=[\"Date\"],\n",
        "                                   index_col=[\"Date\"])\n",
        "#df.head()\n",
        "returns_Sabic = Sabic.pct_change()\n",
        "returns_Sabic.head()"
      ],
      "execution_count": 5,
      "outputs": [
        {
          "output_type": "execute_result",
          "data": {
            "text/html": [
              "<div>\n",
              "<style scoped>\n",
              "    .dataframe tbody tr th:only-of-type {\n",
              "        vertical-align: middle;\n",
              "    }\n",
              "\n",
              "    .dataframe tbody tr th {\n",
              "        vertical-align: top;\n",
              "    }\n",
              "\n",
              "    .dataframe thead th {\n",
              "        text-align: right;\n",
              "    }\n",
              "</style>\n",
              "<table border=\"1\" class=\"dataframe\">\n",
              "  <thead>\n",
              "    <tr style=\"text-align: right;\">\n",
              "      <th></th>\n",
              "      <th>Adj Close</th>\n",
              "    </tr>\n",
              "    <tr>\n",
              "      <th>Date</th>\n",
              "      <th></th>\n",
              "    </tr>\n",
              "  </thead>\n",
              "  <tbody>\n",
              "    <tr>\n",
              "      <th>2020-01-01</th>\n",
              "      <td>NaN</td>\n",
              "    </tr>\n",
              "    <tr>\n",
              "      <th>2020-02-01</th>\n",
              "      <td>-0.104000</td>\n",
              "    </tr>\n",
              "    <tr>\n",
              "      <th>2020-03-01</th>\n",
              "      <td>-0.077381</td>\n",
              "    </tr>\n",
              "    <tr>\n",
              "      <th>2020-04-01</th>\n",
              "      <td>0.170016</td>\n",
              "    </tr>\n",
              "    <tr>\n",
              "      <th>2020-05-01</th>\n",
              "      <td>0.076271</td>\n",
              "    </tr>\n",
              "  </tbody>\n",
              "</table>\n",
              "</div>"
            ],
            "text/plain": [
              "            Adj Close\n",
              "Date                 \n",
              "2020-01-01        NaN\n",
              "2020-02-01  -0.104000\n",
              "2020-03-01  -0.077381\n",
              "2020-04-01   0.170016\n",
              "2020-05-01   0.076271"
            ]
          },
          "metadata": {},
          "execution_count": 5
        }
      ]
    },
    {
      "cell_type": "code",
      "metadata": {
        "id": "2Wk78-6YfKWx"
      },
      "source": [
        "#SA_oil, Rajhi, Sabic,\n",
        "df = pd.merge(SA_oil, Rajhi, on='Date', how='inner')\n",
        "#df\n"
      ],
      "execution_count": 6,
      "outputs": []
    },
    {
      "cell_type": "code",
      "metadata": {
        "colab": {
          "base_uri": "https://localhost:8080/",
          "height": 235
        },
        "id": "1ZQsT1tHTLsJ",
        "outputId": "7b57a44e-fad0-46d3-8ad4-3bc926231234"
      },
      "source": [
        "df1 = pd.merge(df, Sabic, on='Date', how='inner')\n",
        "df1.head()"
      ],
      "execution_count": 7,
      "outputs": [
        {
          "output_type": "execute_result",
          "data": {
            "text/html": [
              "<div>\n",
              "<style scoped>\n",
              "    .dataframe tbody tr th:only-of-type {\n",
              "        vertical-align: middle;\n",
              "    }\n",
              "\n",
              "    .dataframe tbody tr th {\n",
              "        vertical-align: top;\n",
              "    }\n",
              "\n",
              "    .dataframe thead th {\n",
              "        text-align: right;\n",
              "    }\n",
              "</style>\n",
              "<table border=\"1\" class=\"dataframe\">\n",
              "  <thead>\n",
              "    <tr style=\"text-align: right;\">\n",
              "      <th></th>\n",
              "      <th>Adj Close_x</th>\n",
              "      <th>Adj Close_y</th>\n",
              "      <th>Adj Close</th>\n",
              "    </tr>\n",
              "    <tr>\n",
              "      <th>Date</th>\n",
              "      <th></th>\n",
              "      <th></th>\n",
              "      <th></th>\n",
              "    </tr>\n",
              "  </thead>\n",
              "  <tbody>\n",
              "    <tr>\n",
              "      <th>2020-01-01</th>\n",
              "      <td>28.788849</td>\n",
              "      <td>63.108212</td>\n",
              "      <td>70.801003</td>\n",
              "    </tr>\n",
              "    <tr>\n",
              "      <th>2020-02-01</th>\n",
              "      <td>28.114435</td>\n",
              "      <td>59.686680</td>\n",
              "      <td>63.437691</td>\n",
              "    </tr>\n",
              "    <tr>\n",
              "      <th>2020-03-01</th>\n",
              "      <td>25.416800</td>\n",
              "      <td>51.132854</td>\n",
              "      <td>58.528835</td>\n",
              "    </tr>\n",
              "    <tr>\n",
              "      <th>2020-04-01</th>\n",
              "      <td>26.749390</td>\n",
              "      <td>55.888531</td>\n",
              "      <td>68.479668</td>\n",
              "    </tr>\n",
              "    <tr>\n",
              "      <th>2020-05-01</th>\n",
              "      <td>27.890360</td>\n",
              "      <td>56.377068</td>\n",
              "      <td>73.702682</td>\n",
              "    </tr>\n",
              "  </tbody>\n",
              "</table>\n",
              "</div>"
            ],
            "text/plain": [
              "            Adj Close_x  Adj Close_y  Adj Close\n",
              "Date                                           \n",
              "2020-01-01    28.788849    63.108212  70.801003\n",
              "2020-02-01    28.114435    59.686680  63.437691\n",
              "2020-03-01    25.416800    51.132854  58.528835\n",
              "2020-04-01    26.749390    55.888531  68.479668\n",
              "2020-05-01    27.890360    56.377068  73.702682"
            ]
          },
          "metadata": {},
          "execution_count": 7
        }
      ]
    },
    {
      "cell_type": "code",
      "metadata": {
        "colab": {
          "base_uri": "https://localhost:8080/",
          "height": 235
        },
        "id": "CENtxaSeIfYN",
        "outputId": "68c0975f-f351-4b66-ba19-4d839f3f62c1"
      },
      "source": [
        "#marge\n",
        "matrix_of_return_values = df1\n",
        "matrix_of_return_values.head()"
      ],
      "execution_count": 15,
      "outputs": [
        {
          "output_type": "execute_result",
          "data": {
            "text/html": [
              "<div>\n",
              "<style scoped>\n",
              "    .dataframe tbody tr th:only-of-type {\n",
              "        vertical-align: middle;\n",
              "    }\n",
              "\n",
              "    .dataframe tbody tr th {\n",
              "        vertical-align: top;\n",
              "    }\n",
              "\n",
              "    .dataframe thead th {\n",
              "        text-align: right;\n",
              "    }\n",
              "</style>\n",
              "<table border=\"1\" class=\"dataframe\">\n",
              "  <thead>\n",
              "    <tr style=\"text-align: right;\">\n",
              "      <th></th>\n",
              "      <th>Adj Close_x</th>\n",
              "      <th>Adj Close_y</th>\n",
              "      <th>Adj Close</th>\n",
              "    </tr>\n",
              "    <tr>\n",
              "      <th>Date</th>\n",
              "      <th></th>\n",
              "      <th></th>\n",
              "      <th></th>\n",
              "    </tr>\n",
              "  </thead>\n",
              "  <tbody>\n",
              "    <tr>\n",
              "      <th>2020-01-01</th>\n",
              "      <td>28.788849</td>\n",
              "      <td>63.108212</td>\n",
              "      <td>70.801003</td>\n",
              "    </tr>\n",
              "    <tr>\n",
              "      <th>2020-02-01</th>\n",
              "      <td>28.114435</td>\n",
              "      <td>59.686680</td>\n",
              "      <td>63.437691</td>\n",
              "    </tr>\n",
              "    <tr>\n",
              "      <th>2020-03-01</th>\n",
              "      <td>25.416800</td>\n",
              "      <td>51.132854</td>\n",
              "      <td>58.528835</td>\n",
              "    </tr>\n",
              "    <tr>\n",
              "      <th>2020-04-01</th>\n",
              "      <td>26.749390</td>\n",
              "      <td>55.888531</td>\n",
              "      <td>68.479668</td>\n",
              "    </tr>\n",
              "    <tr>\n",
              "      <th>2020-05-01</th>\n",
              "      <td>27.890360</td>\n",
              "      <td>56.377068</td>\n",
              "      <td>73.702682</td>\n",
              "    </tr>\n",
              "  </tbody>\n",
              "</table>\n",
              "</div>"
            ],
            "text/plain": [
              "            Adj Close_x  Adj Close_y  Adj Close\n",
              "Date                                           \n",
              "2020-01-01    28.788849    63.108212  70.801003\n",
              "2020-02-01    28.114435    59.686680  63.437691\n",
              "2020-03-01    25.416800    51.132854  58.528835\n",
              "2020-04-01    26.749390    55.888531  68.479668\n",
              "2020-05-01    27.890360    56.377068  73.702682"
            ]
          },
          "metadata": {},
          "execution_count": 15
        }
      ]
    },
    {
      "cell_type": "code",
      "metadata": {
        "id": "oBPQTQKi97IF"
      },
      "source": [
        "collection_of_random_asset_weights = []\n",
        "portfolio_means = []\n",
        "portfolio_standard_deviations = []\n",
        "portfolio_sharpe_ratios = []"
      ],
      "execution_count": 9,
      "outputs": []
    },
    {
      "cell_type": "code",
      "metadata": {
        "id": "HLwo2LWP-Aib"
      },
      "source": [
        "#random_asset_weights = np.random.random(2)\n",
        "#random_asset_weights /= random_asset_weights.sum()\n",
        "#random_asset_weights\n",
        "no_of_portfolios = df1.shape[0]\n",
        "no_of_asset_classes = df1.shape[1]\n",
        "\n",
        "def get_random_asset_weights(no_of_asset_classes):\n",
        "    random_asset_weights = np.random.rand(no_of_asset_classes)\n",
        "    random_asset_weights /= sum(random_asset_weights)\n",
        "    random_asset_weights = np.asmatrix(random_asset_weights)  # <-- Include this line.\n",
        "    return random_asset_weights"
      ],
      "execution_count": 18,
      "outputs": []
    },
    {
      "cell_type": "code",
      "metadata": {
        "colab": {
          "base_uri": "https://localhost:8080/"
        },
        "id": "j4TtiR6VUUZJ",
        "outputId": "d12b8fa5-e4af-4620-80f8-da34980c1394"
      },
      "source": [
        "x = df1.shape[0]\n",
        "x\n"
      ],
      "execution_count": 17,
      "outputs": [
        {
          "output_type": "execute_result",
          "data": {
            "text/plain": [
              "23"
            ]
          },
          "metadata": {},
          "execution_count": 17
        }
      ]
    },
    {
      "cell_type": "code",
      "metadata": {
        "id": "BLpP-rdc-I9s"
      },
      "source": [
        "def get_portfolio_statistics(asset_weights, matrix_of_return_values):\n",
        "    asset_means = np.asmatrix(np.mean(matrix_of_return_values, axis = 1))\n",
        "    asset_covariances = np.asmatrix(np.cov(matrix_of_return_values))\n",
        "    portfolio_mean = asset_weights * asset_means.T\n",
        "    portfolio_mean = portfolio_mean.item()\n",
        "    portfolio_standard_deviation = np.sqrt(asset_weights * asset_covariances * asset_weights.T)\n",
        "    portfolio_standard_deviation = portfolio_standard_deviation.item()\n",
        "    portfolio_sharpe_ratio = portfolio_mean / portfolio_standard_deviation\n",
        "    return portfolio_mean, portfolio_standard_deviation, portfolio_sharpe_ratio"
      ],
      "execution_count": 11,
      "outputs": []
    },
    {
      "cell_type": "code",
      "metadata": {
        "id": "w-zrfoAaLNEE"
      },
      "source": [
        "#while len(collection_of_random_asset_weights) < no_of_portfolios:\n",
        "    #random_asset_weights = random_asset_weights(no_of_asset_classes)\n",
        "    #collection_of_random_asset_weights.append(random_asset_weights) \n",
        "    #A,B,C=get_portfolio_statistics(random_asset_weights,matrix_of_return_values)\n",
        "    #portfolio_means.append(A)\n",
        "    #portfolio_standard_deviations.append(B)\n",
        "    #portfolio_sharpe_ratios.append(C)"
      ],
      "execution_count": 21,
      "outputs": []
    }
  ]
}