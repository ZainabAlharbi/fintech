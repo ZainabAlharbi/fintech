{
  "nbformat": 4,
  "nbformat_minor": 0,
  "metadata": {
    "colab": {
      "name": "Untitled20.ipynb",
      "provenance": [],
      "authorship_tag": "ABX9TyMLvWD3rStg8TY+gFwrLqHC"
    },
    "kernelspec": {
      "display_name": "Python 3",
      "name": "python3"
    },
    "language_info": {
      "name": "python"
    }
  },
  "cells": [
    {
      "cell_type": "code",
      "metadata": {
        "id": "0OKL7Jw5T2FG"
      },
      "source": [
        "import numpy as np\n",
        "import pandas as pd\n",
        "import statsmodels.api as sm\n",
        "from datetime import datetime\n",
        "import pandas_datareader as pdr\n",
        "import pandas.util.testing as tm"
      ],
      "execution_count": 12,
      "outputs": []
    },
    {
      "cell_type": "code",
      "metadata": {
        "colab": {
          "base_uri": "https://localhost:8080/",
          "height": 235
        },
        "id": "pOxliPaRcmoM",
        "outputId": "aab4c230-7890-4388-c469-513755b8635f"
      },
      "source": [
        "SA_oil = pd.read_csv(\"2222.csv\", usecols=['Date', 'Adj Close'],\n",
        "                                   parse_dates=[\"Date\"],\n",
        "                                   index_col=[\"Date\"])\n",
        "#SA_oil = SA_oil.rename()\n",
        "SA_oil.head()"
      ],
      "execution_count": 13,
      "outputs": [
        {
          "output_type": "execute_result",
          "data": {
            "text/html": [
              "<div>\n",
              "<style scoped>\n",
              "    .dataframe tbody tr th:only-of-type {\n",
              "        vertical-align: middle;\n",
              "    }\n",
              "\n",
              "    .dataframe tbody tr th {\n",
              "        vertical-align: top;\n",
              "    }\n",
              "\n",
              "    .dataframe thead th {\n",
              "        text-align: right;\n",
              "    }\n",
              "</style>\n",
              "<table border=\"1\" class=\"dataframe\">\n",
              "  <thead>\n",
              "    <tr style=\"text-align: right;\">\n",
              "      <th></th>\n",
              "      <th>Adj Close</th>\n",
              "    </tr>\n",
              "    <tr>\n",
              "      <th>Date</th>\n",
              "      <th></th>\n",
              "    </tr>\n",
              "  </thead>\n",
              "  <tbody>\n",
              "    <tr>\n",
              "      <th>2020-01-01</th>\n",
              "      <td>28.788849</td>\n",
              "    </tr>\n",
              "    <tr>\n",
              "      <th>2020-02-01</th>\n",
              "      <td>28.114435</td>\n",
              "    </tr>\n",
              "    <tr>\n",
              "      <th>2020-03-01</th>\n",
              "      <td>25.416800</td>\n",
              "    </tr>\n",
              "    <tr>\n",
              "      <th>2020-04-01</th>\n",
              "      <td>26.749390</td>\n",
              "    </tr>\n",
              "    <tr>\n",
              "      <th>2020-05-01</th>\n",
              "      <td>27.890360</td>\n",
              "    </tr>\n",
              "  </tbody>\n",
              "</table>\n",
              "</div>"
            ],
            "text/plain": [
              "            Adj Close\n",
              "Date                 \n",
              "2020-01-01  28.788849\n",
              "2020-02-01  28.114435\n",
              "2020-03-01  25.416800\n",
              "2020-04-01  26.749390\n",
              "2020-05-01  27.890360"
            ]
          },
          "metadata": {},
          "execution_count": 13
        }
      ]
    },
    {
      "cell_type": "code",
      "metadata": {
        "colab": {
          "base_uri": "https://localhost:8080/",
          "height": 235
        },
        "id": "SDXLEHX_Rxl4",
        "outputId": "a9a1b366-7d00-4428-bd49-832ff47faacc"
      },
      "source": [
        "# retuen = (current - pervious) / current\n",
        "returns_SA_oil = SA_oil.pct_change()\n",
        "returns_SA_oil.head()\n",
        "#returns_SA_oil.shape"
      ],
      "execution_count": 14,
      "outputs": [
        {
          "output_type": "execute_result",
          "data": {
            "text/html": [
              "<div>\n",
              "<style scoped>\n",
              "    .dataframe tbody tr th:only-of-type {\n",
              "        vertical-align: middle;\n",
              "    }\n",
              "\n",
              "    .dataframe tbody tr th {\n",
              "        vertical-align: top;\n",
              "    }\n",
              "\n",
              "    .dataframe thead th {\n",
              "        text-align: right;\n",
              "    }\n",
              "</style>\n",
              "<table border=\"1\" class=\"dataframe\">\n",
              "  <thead>\n",
              "    <tr style=\"text-align: right;\">\n",
              "      <th></th>\n",
              "      <th>Adj Close</th>\n",
              "    </tr>\n",
              "    <tr>\n",
              "      <th>Date</th>\n",
              "      <th></th>\n",
              "    </tr>\n",
              "  </thead>\n",
              "  <tbody>\n",
              "    <tr>\n",
              "      <th>2020-01-01</th>\n",
              "      <td>NaN</td>\n",
              "    </tr>\n",
              "    <tr>\n",
              "      <th>2020-02-01</th>\n",
              "      <td>-0.023426</td>\n",
              "    </tr>\n",
              "    <tr>\n",
              "      <th>2020-03-01</th>\n",
              "      <td>-0.095952</td>\n",
              "    </tr>\n",
              "    <tr>\n",
              "      <th>2020-04-01</th>\n",
              "      <td>0.052429</td>\n",
              "    </tr>\n",
              "    <tr>\n",
              "      <th>2020-05-01</th>\n",
              "      <td>0.042654</td>\n",
              "    </tr>\n",
              "  </tbody>\n",
              "</table>\n",
              "</div>"
            ],
            "text/plain": [
              "            Adj Close\n",
              "Date                 \n",
              "2020-01-01        NaN\n",
              "2020-02-01  -0.023426\n",
              "2020-03-01  -0.095952\n",
              "2020-04-01   0.052429\n",
              "2020-05-01   0.042654"
            ]
          },
          "metadata": {},
          "execution_count": 14
        }
      ]
    },
    {
      "cell_type": "code",
      "metadata": {
        "colab": {
          "base_uri": "https://localhost:8080/",
          "height": 235
        },
        "id": "62diC7rYetFy",
        "outputId": "3ec6df26-8668-41ae-f7e1-0f91c9df4744"
      },
      "source": [
        "Rajhi = pd.read_csv(\"1120.csv\", usecols=['Date', 'Adj Close'],\n",
        "                                   parse_dates=[\"Date\"],\n",
        "                                   index_col=[\"Date\"])\n",
        "\n",
        "#df.head()\n",
        "returns_Rajhi = Rajhi.pct_change()\n",
        "returns_Rajhi.head()"
      ],
      "execution_count": 15,
      "outputs": [
        {
          "output_type": "execute_result",
          "data": {
            "text/html": [
              "<div>\n",
              "<style scoped>\n",
              "    .dataframe tbody tr th:only-of-type {\n",
              "        vertical-align: middle;\n",
              "    }\n",
              "\n",
              "    .dataframe tbody tr th {\n",
              "        vertical-align: top;\n",
              "    }\n",
              "\n",
              "    .dataframe thead th {\n",
              "        text-align: right;\n",
              "    }\n",
              "</style>\n",
              "<table border=\"1\" class=\"dataframe\">\n",
              "  <thead>\n",
              "    <tr style=\"text-align: right;\">\n",
              "      <th></th>\n",
              "      <th>Adj Close</th>\n",
              "    </tr>\n",
              "    <tr>\n",
              "      <th>Date</th>\n",
              "      <th></th>\n",
              "    </tr>\n",
              "  </thead>\n",
              "  <tbody>\n",
              "    <tr>\n",
              "      <th>2020-01-01</th>\n",
              "      <td>NaN</td>\n",
              "    </tr>\n",
              "    <tr>\n",
              "      <th>2020-02-01</th>\n",
              "      <td>-0.054217</td>\n",
              "    </tr>\n",
              "    <tr>\n",
              "      <th>2020-03-01</th>\n",
              "      <td>-0.143312</td>\n",
              "    </tr>\n",
              "    <tr>\n",
              "      <th>2020-04-01</th>\n",
              "      <td>0.093006</td>\n",
              "    </tr>\n",
              "    <tr>\n",
              "      <th>2020-05-01</th>\n",
              "      <td>0.008741</td>\n",
              "    </tr>\n",
              "  </tbody>\n",
              "</table>\n",
              "</div>"
            ],
            "text/plain": [
              "            Adj Close\n",
              "Date                 \n",
              "2020-01-01        NaN\n",
              "2020-02-01  -0.054217\n",
              "2020-03-01  -0.143312\n",
              "2020-04-01   0.093006\n",
              "2020-05-01   0.008741"
            ]
          },
          "metadata": {},
          "execution_count": 15
        }
      ]
    },
    {
      "cell_type": "code",
      "metadata": {
        "colab": {
          "base_uri": "https://localhost:8080/",
          "height": 235
        },
        "id": "VdMnHtIZfBkR",
        "outputId": "a91664f3-166d-41e1-a3a4-eed915b27adc"
      },
      "source": [
        "Sabic = df = pd.read_csv(\"2020.csv\", usecols=['Date', 'Adj Close'],\n",
        "                                   parse_dates=[\"Date\"],\n",
        "                                   index_col=[\"Date\"])\n",
        "#df.head()\n",
        "returns_Sabic = Sabic.pct_change()\n",
        "returns_Sabic.head()"
      ],
      "execution_count": 16,
      "outputs": [
        {
          "output_type": "execute_result",
          "data": {
            "text/html": [
              "<div>\n",
              "<style scoped>\n",
              "    .dataframe tbody tr th:only-of-type {\n",
              "        vertical-align: middle;\n",
              "    }\n",
              "\n",
              "    .dataframe tbody tr th {\n",
              "        vertical-align: top;\n",
              "    }\n",
              "\n",
              "    .dataframe thead th {\n",
              "        text-align: right;\n",
              "    }\n",
              "</style>\n",
              "<table border=\"1\" class=\"dataframe\">\n",
              "  <thead>\n",
              "    <tr style=\"text-align: right;\">\n",
              "      <th></th>\n",
              "      <th>Adj Close</th>\n",
              "    </tr>\n",
              "    <tr>\n",
              "      <th>Date</th>\n",
              "      <th></th>\n",
              "    </tr>\n",
              "  </thead>\n",
              "  <tbody>\n",
              "    <tr>\n",
              "      <th>2020-01-01</th>\n",
              "      <td>NaN</td>\n",
              "    </tr>\n",
              "    <tr>\n",
              "      <th>2020-02-01</th>\n",
              "      <td>-0.104000</td>\n",
              "    </tr>\n",
              "    <tr>\n",
              "      <th>2020-03-01</th>\n",
              "      <td>-0.077381</td>\n",
              "    </tr>\n",
              "    <tr>\n",
              "      <th>2020-04-01</th>\n",
              "      <td>0.170016</td>\n",
              "    </tr>\n",
              "    <tr>\n",
              "      <th>2020-05-01</th>\n",
              "      <td>0.076271</td>\n",
              "    </tr>\n",
              "  </tbody>\n",
              "</table>\n",
              "</div>"
            ],
            "text/plain": [
              "            Adj Close\n",
              "Date                 \n",
              "2020-01-01        NaN\n",
              "2020-02-01  -0.104000\n",
              "2020-03-01  -0.077381\n",
              "2020-04-01   0.170016\n",
              "2020-05-01   0.076271"
            ]
          },
          "metadata": {},
          "execution_count": 16
        }
      ]
    },
    {
      "cell_type": "code",
      "metadata": {
        "id": "2Wk78-6YfKWx"
      },
      "source": [
        "#SA_oil, Rajhi, Sabic,\n",
        "df = pd.merge(returns_SA_oil, returns_Rajhi, on='Date', how='inner')\n",
        "#df\n"
      ],
      "execution_count": 17,
      "outputs": []
    },
    {
      "cell_type": "code",
      "metadata": {
        "id": "1ZQsT1tHTLsJ"
      },
      "source": [
        "matrix_of_return_values = pd.merge(df, returns_Sabic, on='Date', how='inner')\n",
        "matrix_of_return_values = matrix_of_return_value.dropna()\n",
        "#matrix_of_return_value.index.duplicated().any()\n"
      ],
      "execution_count": 22,
      "outputs": []
    },
    {
      "cell_type": "code",
      "metadata": {
        "id": "CENtxaSeIfYN"
      },
      "source": [
        "#marge\n",
        "#matrix_of_return_values = df1\n",
        "#matrix_of_return_values.head().dropna()"
      ],
      "execution_count": 8,
      "outputs": []
    },
    {
      "cell_type": "code",
      "metadata": {
        "id": "oBPQTQKi97IF"
      },
      "source": [
        "collection_of_random_asset_weights = []\n",
        "portfolio_means = []\n",
        "portfolio_standard_deviations = []\n",
        "portfolio_sharpe_ratios = []"
      ],
      "execution_count": 23,
      "outputs": []
    },
    {
      "cell_type": "code",
      "metadata": {
        "colab": {
          "base_uri": "https://localhost:8080/"
        },
        "id": "HLwo2LWP-Aib",
        "outputId": "ea3a21d6-9874-43a1-c840-294a5482bcad"
      },
      "source": [
        "#random_asset_weights = np.random.random(2)\n",
        "#random_asset_weights /= random_asset_weights.sum()\n",
        "#random_asset_weights\n",
        "no_of_portfolios = 500\n",
        "no_of_asset_classes = matrix_of_return_values.shape[1]\n",
        "\n",
        "def get_random_asset_weights(no_of_asset_classes):\n",
        "    random_asset_weights = np.random.rand(no_of_asset_classes)\n",
        "    random_asset_weights /= sum(random_asset_weights)\n",
        "    random_asset_weights = np.asmatrix(random_asset_weights)  # <-- Include this line.\n",
        "    return random_asset_weights\n",
        "asset_weights = get_random_asset_weights(no_of_asset_classes)   \n",
        "asset_weights \n",
        "#print(type(no_of_asset_classes))"
      ],
      "execution_count": 44,
      "outputs": [
        {
          "output_type": "execute_result",
          "data": {
            "text/plain": [
              "matrix([[0.324349  , 0.28659764, 0.38905336]])"
            ]
          },
          "metadata": {},
          "execution_count": 44
        }
      ]
    },
    {
      "cell_type": "code",
      "metadata": {
        "colab": {
          "base_uri": "https://localhost:8080/"
        },
        "id": "BLpP-rdc-I9s",
        "outputId": "f8becab8-2ca0-4900-fce2-83c88f0575e8"
      },
      "source": [
        "def get_portfolio_statistics(asset_weights, matrix_of_return_values):\n",
        "    asset_means = np.asmatrix(np.mean(matrix_of_return_values, axis = 0))\n",
        "    #asset_covariances = np.asmatrix(np.cov(matrix_of_return_values))\n",
        "    asset_covariances = np.asmatrix(matrix_of_return_values.cov())\n",
        "    portfolio_mean = asset_weights * asset_means.T\n",
        "    portfolio_mean = portfolio_mean.item()\n",
        "    portfolio_standard_deviation = np.sqrt(asset_weights * asset_covariances * asset_weights.T)\n",
        "    portfolio_standard_deviation = portfolio_standard_deviation.item()\n",
        "    portfolio_sharpe_ratio = portfolio_mean / portfolio_standard_deviation\n",
        "    return portfolio_mean, portfolio_standard_deviation, portfolio_sharpe_ratio  \n",
        "    #print(portfolio_sharpe_ratio)\n",
        "get_portfolio_statistics(asset_weights, matrix_of_return_values)    "
      ],
      "execution_count": 42,
      "outputs": [
        {
          "output_type": "execute_result",
          "data": {
            "text/plain": [
              "(0.039713887014950926, 0.07137009117143386, 0.5564499969539979)"
            ]
          },
          "metadata": {},
          "execution_count": 42
        }
      ]
    },
    {
      "cell_type": "code",
      "metadata": {
        "id": "w-zrfoAaLNEE"
      },
      "source": [
        "while len(collection_of_random_asset_weights) < no_of_portfolios:\n",
        "    random_asset_weights = asset_weights(no_of_asset_classes)\n",
        "    collection_of_random_asset_weights.append(random_asset_weights) \n",
        "    A,B,C=get_portfolio_statistics(random_asset_weights,matrix_of_return_values)\n",
        "    portfolio_means.append(A)\n",
        "    portfolio_standard_deviations.append(B)\n",
        "    portfolio_sharpe_ratios.append(C)"
      ],
      "execution_count": null,
      "outputs": []
    }
  ]
}