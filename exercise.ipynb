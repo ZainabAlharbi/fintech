{
  "nbformat": 4,
  "nbformat_minor": 0,
  "metadata": {
    "colab": {
      "name": "Untitled20.ipynb",
      "provenance": [],
      "authorship_tag": "ABX9TyNSyd3Q4fSgtr/6oej2uxvW"
    },
    "kernelspec": {
      "display_name": "Python 3",
      "name": "python3"
    },
    "language_info": {
      "name": "python"
    }
  },
  "cells": [
    {
      "cell_type": "markdown",
      "metadata": {
        "id": "uWM6pKktt1uE"
      },
      "source": [
        "https://drive.google.com/file/d/1bnEZvP55SNAzFomR9brwXdCKERuQ1UHl/view?usp=sharing"
      ]
    },
    {
      "cell_type": "markdown",
      "metadata": {
        "id": "lrgeetiQt9tx"
      },
      "source": [
        "https://drive.google.com/file/d/1iH69AmFQ__rBaSBEmcIFeijmUGgmqRO9/view?usp=sharing"
      ]
    },
    {
      "cell_type": "markdown",
      "metadata": {
        "id": "QKckDQY4uHZP"
      },
      "source": [
        "https://drive.google.com/file/d/1rY0ysJ7QCZ8TrcjjpaePsbZHGEEF148R/view?usp=sharing"
      ]
    },
    {
      "cell_type": "code",
      "metadata": {
        "id": "0OKL7Jw5T2FG"
      },
      "source": [
        "import numpy as np\n",
        "import pandas as pd\n",
        "import statsmodels.api as sm\n",
        "from datetime import datetime\n",
        "import pandas_datareader as pdr\n",
        "import pandas.util.testing as tm\n",
        "from matplotlib import pyplot as plt"
      ],
      "execution_count": 12,
      "outputs": []
    },
    {
      "cell_type": "code",
      "metadata": {
        "id": "pOxliPaRcmoM"
      },
      "source": [
        "SA_oil = pd.read_csv(\"2222.csv\", usecols=['Date', 'Adj Close'],\n",
        "                                   parse_dates=[\"Date\"],\n",
        "                                   index_col=[\"Date\"])\n",
        "#SA_oil = SA_oil.rename()\n",
        "#SA_oil.head()"
      ],
      "execution_count": 13,
      "outputs": []
    },
    {
      "cell_type": "code",
      "metadata": {
        "colab": {
          "base_uri": "https://localhost:8080/",
          "height": 235
        },
        "id": "SDXLEHX_Rxl4",
        "outputId": "9ec6423e-b5d0-436a-8eb1-aba6da08613a"
      },
      "source": [
        "# retuen = (current - pervious) / current\n",
        "returns_SA_oil = SA_oil.pct_change()\n",
        "returns_SA_oil.head()\n",
        "#returns_SA_oil.shape"
      ],
      "execution_count": 14,
      "outputs": [
        {
          "output_type": "execute_result",
          "data": {
            "text/html": [
              "<div>\n",
              "<style scoped>\n",
              "    .dataframe tbody tr th:only-of-type {\n",
              "        vertical-align: middle;\n",
              "    }\n",
              "\n",
              "    .dataframe tbody tr th {\n",
              "        vertical-align: top;\n",
              "    }\n",
              "\n",
              "    .dataframe thead th {\n",
              "        text-align: right;\n",
              "    }\n",
              "</style>\n",
              "<table border=\"1\" class=\"dataframe\">\n",
              "  <thead>\n",
              "    <tr style=\"text-align: right;\">\n",
              "      <th></th>\n",
              "      <th>Adj Close</th>\n",
              "    </tr>\n",
              "    <tr>\n",
              "      <th>Date</th>\n",
              "      <th></th>\n",
              "    </tr>\n",
              "  </thead>\n",
              "  <tbody>\n",
              "    <tr>\n",
              "      <th>2020-01-01</th>\n",
              "      <td>NaN</td>\n",
              "    </tr>\n",
              "    <tr>\n",
              "      <th>2020-02-01</th>\n",
              "      <td>-0.023426</td>\n",
              "    </tr>\n",
              "    <tr>\n",
              "      <th>2020-03-01</th>\n",
              "      <td>-0.095952</td>\n",
              "    </tr>\n",
              "    <tr>\n",
              "      <th>2020-04-01</th>\n",
              "      <td>0.052429</td>\n",
              "    </tr>\n",
              "    <tr>\n",
              "      <th>2020-05-01</th>\n",
              "      <td>0.042654</td>\n",
              "    </tr>\n",
              "  </tbody>\n",
              "</table>\n",
              "</div>"
            ],
            "text/plain": [
              "            Adj Close\n",
              "Date                 \n",
              "2020-01-01        NaN\n",
              "2020-02-01  -0.023426\n",
              "2020-03-01  -0.095952\n",
              "2020-04-01   0.052429\n",
              "2020-05-01   0.042654"
            ]
          },
          "metadata": {},
          "execution_count": 14
        }
      ]
    },
    {
      "cell_type": "code",
      "metadata": {
        "colab": {
          "base_uri": "https://localhost:8080/",
          "height": 235
        },
        "id": "62diC7rYetFy",
        "outputId": "882c9ad6-e802-4d15-f133-31bca1198935"
      },
      "source": [
        "Rajhi = pd.read_csv(\"1120.csv\", usecols=['Date', 'Adj Close'],\n",
        "                                   parse_dates=[\"Date\"],\n",
        "                                   index_col=[\"Date\"])\n",
        "\n",
        "#df.head()\n",
        "returns_Rajhi = Rajhi.pct_change()\n",
        "returns_Rajhi.head()"
      ],
      "execution_count": 15,
      "outputs": [
        {
          "output_type": "execute_result",
          "data": {
            "text/html": [
              "<div>\n",
              "<style scoped>\n",
              "    .dataframe tbody tr th:only-of-type {\n",
              "        vertical-align: middle;\n",
              "    }\n",
              "\n",
              "    .dataframe tbody tr th {\n",
              "        vertical-align: top;\n",
              "    }\n",
              "\n",
              "    .dataframe thead th {\n",
              "        text-align: right;\n",
              "    }\n",
              "</style>\n",
              "<table border=\"1\" class=\"dataframe\">\n",
              "  <thead>\n",
              "    <tr style=\"text-align: right;\">\n",
              "      <th></th>\n",
              "      <th>Adj Close</th>\n",
              "    </tr>\n",
              "    <tr>\n",
              "      <th>Date</th>\n",
              "      <th></th>\n",
              "    </tr>\n",
              "  </thead>\n",
              "  <tbody>\n",
              "    <tr>\n",
              "      <th>2020-01-01</th>\n",
              "      <td>NaN</td>\n",
              "    </tr>\n",
              "    <tr>\n",
              "      <th>2020-02-01</th>\n",
              "      <td>-0.054217</td>\n",
              "    </tr>\n",
              "    <tr>\n",
              "      <th>2020-03-01</th>\n",
              "      <td>-0.143312</td>\n",
              "    </tr>\n",
              "    <tr>\n",
              "      <th>2020-04-01</th>\n",
              "      <td>0.093006</td>\n",
              "    </tr>\n",
              "    <tr>\n",
              "      <th>2020-05-01</th>\n",
              "      <td>0.008741</td>\n",
              "    </tr>\n",
              "  </tbody>\n",
              "</table>\n",
              "</div>"
            ],
            "text/plain": [
              "            Adj Close\n",
              "Date                 \n",
              "2020-01-01        NaN\n",
              "2020-02-01  -0.054217\n",
              "2020-03-01  -0.143312\n",
              "2020-04-01   0.093006\n",
              "2020-05-01   0.008741"
            ]
          },
          "metadata": {},
          "execution_count": 15
        }
      ]
    },
    {
      "cell_type": "code",
      "metadata": {
        "colab": {
          "base_uri": "https://localhost:8080/",
          "height": 235
        },
        "id": "VdMnHtIZfBkR",
        "outputId": "8753d31d-be17-4783-8a39-84f093a26d31"
      },
      "source": [
        "Sabic = pd.read_csv(\"2020.csv\", usecols=['Date', 'Adj Close'],\n",
        "                                   parse_dates=[\"Date\"],\n",
        "                                   index_col=[\"Date\"])\n",
        "#df.head()\n",
        "returns_Sabic = Sabic.pct_change()\n",
        "returns_Sabic.head()"
      ],
      "execution_count": 16,
      "outputs": [
        {
          "output_type": "execute_result",
          "data": {
            "text/html": [
              "<div>\n",
              "<style scoped>\n",
              "    .dataframe tbody tr th:only-of-type {\n",
              "        vertical-align: middle;\n",
              "    }\n",
              "\n",
              "    .dataframe tbody tr th {\n",
              "        vertical-align: top;\n",
              "    }\n",
              "\n",
              "    .dataframe thead th {\n",
              "        text-align: right;\n",
              "    }\n",
              "</style>\n",
              "<table border=\"1\" class=\"dataframe\">\n",
              "  <thead>\n",
              "    <tr style=\"text-align: right;\">\n",
              "      <th></th>\n",
              "      <th>Adj Close</th>\n",
              "    </tr>\n",
              "    <tr>\n",
              "      <th>Date</th>\n",
              "      <th></th>\n",
              "    </tr>\n",
              "  </thead>\n",
              "  <tbody>\n",
              "    <tr>\n",
              "      <th>2020-01-01</th>\n",
              "      <td>NaN</td>\n",
              "    </tr>\n",
              "    <tr>\n",
              "      <th>2020-02-01</th>\n",
              "      <td>-0.104000</td>\n",
              "    </tr>\n",
              "    <tr>\n",
              "      <th>2020-03-01</th>\n",
              "      <td>-0.077381</td>\n",
              "    </tr>\n",
              "    <tr>\n",
              "      <th>2020-04-01</th>\n",
              "      <td>0.170016</td>\n",
              "    </tr>\n",
              "    <tr>\n",
              "      <th>2020-05-01</th>\n",
              "      <td>0.076271</td>\n",
              "    </tr>\n",
              "  </tbody>\n",
              "</table>\n",
              "</div>"
            ],
            "text/plain": [
              "            Adj Close\n",
              "Date                 \n",
              "2020-01-01        NaN\n",
              "2020-02-01  -0.104000\n",
              "2020-03-01  -0.077381\n",
              "2020-04-01   0.170016\n",
              "2020-05-01   0.076271"
            ]
          },
          "metadata": {},
          "execution_count": 16
        }
      ]
    },
    {
      "cell_type": "code",
      "metadata": {
        "id": "2Wk78-6YfKWx"
      },
      "source": [
        "#SA_oil, Rajhi, Sabic,\n",
        "df = pd.merge(returns_SA_oil, returns_Rajhi, on='Date', how='inner')\n",
        "#df\n"
      ],
      "execution_count": 17,
      "outputs": []
    },
    {
      "cell_type": "code",
      "metadata": {
        "id": "1ZQsT1tHTLsJ",
        "outputId": "fafbd58c-98e9-4d2d-ff9f-8b0943bfaa1a",
        "colab": {
          "base_uri": "https://localhost:8080/",
          "height": 235
        }
      },
      "source": [
        "matrix_of_return_values = pd.merge(df, returns_Sabic, on='Date', how='inner')\n",
        "matrix_of_return_values = matrix_of_return_values.dropna()\n",
        "#matrix_of_return_value.index.duplicated().any()\n",
        "matrix_of_return_values.head()\n"
      ],
      "execution_count": 18,
      "outputs": [
        {
          "output_type": "execute_result",
          "data": {
            "text/html": [
              "<div>\n",
              "<style scoped>\n",
              "    .dataframe tbody tr th:only-of-type {\n",
              "        vertical-align: middle;\n",
              "    }\n",
              "\n",
              "    .dataframe tbody tr th {\n",
              "        vertical-align: top;\n",
              "    }\n",
              "\n",
              "    .dataframe thead th {\n",
              "        text-align: right;\n",
              "    }\n",
              "</style>\n",
              "<table border=\"1\" class=\"dataframe\">\n",
              "  <thead>\n",
              "    <tr style=\"text-align: right;\">\n",
              "      <th></th>\n",
              "      <th>Adj Close_x</th>\n",
              "      <th>Adj Close_y</th>\n",
              "      <th>Adj Close</th>\n",
              "    </tr>\n",
              "    <tr>\n",
              "      <th>Date</th>\n",
              "      <th></th>\n",
              "      <th></th>\n",
              "      <th></th>\n",
              "    </tr>\n",
              "  </thead>\n",
              "  <tbody>\n",
              "    <tr>\n",
              "      <th>2020-02-01</th>\n",
              "      <td>-0.023426</td>\n",
              "      <td>-0.054217</td>\n",
              "      <td>-0.104000</td>\n",
              "    </tr>\n",
              "    <tr>\n",
              "      <th>2020-03-01</th>\n",
              "      <td>-0.095952</td>\n",
              "      <td>-0.143312</td>\n",
              "      <td>-0.077381</td>\n",
              "    </tr>\n",
              "    <tr>\n",
              "      <th>2020-04-01</th>\n",
              "      <td>0.052429</td>\n",
              "      <td>0.093006</td>\n",
              "      <td>0.170016</td>\n",
              "    </tr>\n",
              "    <tr>\n",
              "      <th>2020-05-01</th>\n",
              "      <td>0.042654</td>\n",
              "      <td>0.008741</td>\n",
              "      <td>0.076271</td>\n",
              "    </tr>\n",
              "    <tr>\n",
              "      <th>2020-06-01</th>\n",
              "      <td>0.108000</td>\n",
              "      <td>-0.019064</td>\n",
              "      <td>-0.022310</td>\n",
              "    </tr>\n",
              "  </tbody>\n",
              "</table>\n",
              "</div>"
            ],
            "text/plain": [
              "            Adj Close_x  Adj Close_y  Adj Close\n",
              "Date                                           \n",
              "2020-02-01    -0.023426    -0.054217  -0.104000\n",
              "2020-03-01    -0.095952    -0.143312  -0.077381\n",
              "2020-04-01     0.052429     0.093006   0.170016\n",
              "2020-05-01     0.042654     0.008741   0.076271\n",
              "2020-06-01     0.108000    -0.019064  -0.022310"
            ]
          },
          "metadata": {},
          "execution_count": 18
        }
      ]
    },
    {
      "cell_type": "code",
      "metadata": {
        "id": "oBPQTQKi97IF"
      },
      "source": [
        "collection_of_random_asset_weights = []\n",
        "portfolio_means = []\n",
        "portfolio_standard_deviations = []\n",
        "portfolio_sharpe_ratios = []"
      ],
      "execution_count": 19,
      "outputs": []
    },
    {
      "cell_type": "code",
      "metadata": {
        "colab": {
          "base_uri": "https://localhost:8080/"
        },
        "id": "HLwo2LWP-Aib",
        "outputId": "7987b64d-31a2-408e-dae3-2f560f556aae"
      },
      "source": [
        "no_of_portfolios = 500\n",
        "no_of_asset_classes = matrix_of_return_values.shape[1]\n",
        "\n",
        "def get_random_asset_weights(no_of_asset_classes):\n",
        "    random_asset_weights = np.random.rand(no_of_asset_classes)\n",
        "    random_asset_weights /= sum(random_asset_weights)\n",
        "    random_asset_weights = np.asmatrix(random_asset_weights) \n",
        "    return random_asset_weights\n",
        "asset_weights = get_random_asset_weights(no_of_asset_classes)   \n",
        "asset_weights "
      ],
      "execution_count": 20,
      "outputs": [
        {
          "output_type": "execute_result",
          "data": {
            "text/plain": [
              "matrix([[0.15183766, 0.47187253, 0.37628981]])"
            ]
          },
          "metadata": {},
          "execution_count": 20
        }
      ]
    },
    {
      "cell_type": "code",
      "metadata": {
        "colab": {
          "base_uri": "https://localhost:8080/"
        },
        "id": "BLpP-rdc-I9s",
        "outputId": "80deba40-2ca3-43bb-bd67-1c30d8629338"
      },
      "source": [
        "def get_portfolio_statistics(asset_weights, matrix_of_return_values):\n",
        "    asset_means = np.asmatrix(np.mean(matrix_of_return_values, axis = 0))\n",
        "    #asset_covariances = np.asmatrix(np.cov(matrix_of_return_values))\n",
        "    asset_covariances = np.asmatrix(matrix_of_return_values.cov())\n",
        "    portfolio_mean = asset_weights * asset_means.T\n",
        "    portfolio_mean = portfolio_mean.item()\n",
        "    portfolio_standard_deviation = np.sqrt(asset_weights * asset_covariances * asset_weights.T)\n",
        "    portfolio_standard_deviation = portfolio_standard_deviation.item()\n",
        "    portfolio_sharpe_ratio = portfolio_mean / portfolio_standard_deviation\n",
        "    return portfolio_mean, portfolio_standard_deviation, portfolio_sharpe_ratio  \n",
        "    #print(portfolio_sharpe_ratio)\n",
        "get_portfolio_statistics(asset_weights, matrix_of_return_values)    "
      ],
      "execution_count": 21,
      "outputs": [
        {
          "output_type": "execute_result",
          "data": {
            "text/plain": [
              "(0.037636556307309346, 0.06394260594608073, 0.5885990373780853)"
            ]
          },
          "metadata": {},
          "execution_count": 21
        }
      ]
    },
    {
      "cell_type": "code",
      "metadata": {
        "id": "w-zrfoAaLNEE"
      },
      "source": [
        "while len(collection_of_random_asset_weights) < no_of_portfolios:\n",
        "    random_asset_weights = get_random_asset_weights(no_of_asset_classes)\n",
        "    collection_of_random_asset_weights.append(random_asset_weights) \n",
        "    A,B,C=get_portfolio_statistics(random_asset_weights,matrix_of_return_values)\n",
        "    portfolio_means.append(A)\n",
        "    portfolio_standard_deviations.append(B)\n",
        "    portfolio_sharpe_ratios.append(C)   "
      ],
      "execution_count": 23,
      "outputs": []
    },
    {
      "cell_type": "code",
      "metadata": {
        "id": "bqyUKkz-gnmK",
        "outputId": "8ed06d04-4c83-4a14-a37c-b8df7441bb19",
        "colab": {
          "base_uri": "https://localhost:8080/",
          "height": 265
        }
      },
      "source": [
        "plt.plot(portfolio_standard_deviations, portfolio_means, 'o', markersize = 3, color = 'lightskyblue') \n",
        "plt.show()"
      ],
      "execution_count": 24,
      "outputs": [
        {
          "output_type": "display_data",
          "data": {
            "image/png": "[encoded data removed]",
            "text/plain": [
              "<Figure size 432x288 with 1 Axes>"
            ]
          },
          "metadata": {
            "needs_background": "light"
          }
        }
      ]
    },
    {
      "cell_type": "code",
      "metadata": {
        "id": "OkirZD11hTlT",
        "outputId": "42741204-34ce-41fd-ad2a-bcb0d0e7cb78",
        "colab": {
          "base_uri": "https://localhost:8080/"
        }
      },
      "source": [
        "index = portfolio_sharpe_ratios.index(max(portfolio_sharpe_ratios))\n",
        "print(index)"
      ],
      "execution_count": 25,
      "outputs": [
        {
          "output_type": "stream",
          "name": "stdout",
          "text": [
            "267\n"
          ]
        }
      ]
    },
    {
      "cell_type": "code",
      "metadata": {
        "id": "t_bOxVkJhdC5",
        "outputId": "abf2eb74-5f6a-41bb-e504-dcbd4ae29fb8",
        "colab": {
          "base_uri": "https://localhost:8080/"
        }
      },
      "source": [
        "print(collection_of_random_asset_weights[index])\n",
        "print(portfolio_sharpe_ratios[index])"
      ],
      "execution_count": 26,
      "outputs": [
        {
          "output_type": "stream",
          "name": "stdout",
          "text": [
            "[[0.07118374 0.07893325 0.84988301]]\n",
            "0.5984889357272646\n"
          ]
        }
      ]
    },
    {
      "cell_type": "code",
      "metadata": {
        "id": "LvLiqEqChk-Q",
        "outputId": "d43cff79-a0a5-4cb9-9fae-b3c6210ef702",
        "colab": {
          "base_uri": "https://localhost:8080/",
          "height": 265
        }
      },
      "source": [
        "x = np.linspace(0, max(portfolio_standard_deviations), 500)\n",
        "y = portfolio_sharpe_ratios[index] * x\n",
        "plt.plot(portfolio_standard_deviations, portfolio_means, 'o', markersize = 3, color = 'lightskyblue')\n",
        "plt.plot(x, y, '-', linewidth = 2, color = 'green')\n",
        "plt.plot(portfolio_standard_deviations[index], portfolio_means[index], color= 'r', marker = 'o' )\n",
        "plt.show()"
      ],
      "execution_count": 27,
      "outputs": [
        {
          "output_type": "display_data",
          "data": {
            "image/png": "[encoded data removed]",
            "text/plain": [
              "<Figure size 432x288 with 1 Axes>"
            ]
          },
          "metadata": {
            "needs_background": "light"
          }
        }
      ]
    }
  ]
}